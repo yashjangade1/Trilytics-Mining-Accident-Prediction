{
  "nbformat": 4,
  "nbformat_minor": 0,
  "metadata": {
    "colab": {
      "provenance": []
    },
    "kernelspec": {
      "name": "python3",
      "display_name": "Python 3"
    },
    "language_info": {
      "name": "python"
    }
  },
  "cells": [
    {
      "cell_type": "markdown",
      "source": [
        "# Trilytics"
      ],
      "metadata": {
        "id": "KMI22o8LNYIV"
      }
    },
    {
      "cell_type": "markdown",
      "source": [
        "The following code is a walk through of the steps we took to process the data provided to us and to train the data"
      ],
      "metadata": {
        "id": "HXJf9MVtNJfd"
      }
    },
    {
      "cell_type": "markdown",
      "source": [
        "### Importing Libraries and Dependencies"
      ],
      "metadata": {
        "id": "bG4qHUKxMgkt"
      }
    },
    {
      "cell_type": "code",
      "source": [
        "pip install catboost"
      ],
      "metadata": {
        "id": "lutq8VZDNiij",
        "colab": {
          "base_uri": "https://localhost:8080/"
        },
        "outputId": "be3d818e-0696-44c5-8636-724cab09e26b"
      },
      "execution_count": null,
      "outputs": [
        {
          "output_type": "stream",
          "name": "stdout",
          "text": [
            "Collecting catboost\n",
            "  Downloading catboost-1.2-cp310-cp310-manylinux2014_x86_64.whl (98.6 MB)\n",
            "\u001b[2K     \u001b[90m━━━━━━━━━━━━━━━━━━━━━━━━━━━━━━━━━━━━━━━━\u001b[0m \u001b[32m98.6/98.6 MB\u001b[0m \u001b[31m5.9 MB/s\u001b[0m eta \u001b[36m0:00:00\u001b[0m\n",
            "\u001b[?25hRequirement already satisfied: graphviz in /usr/local/lib/python3.10/dist-packages (from catboost) (0.20.1)\n",
            "Requirement already satisfied: matplotlib in /usr/local/lib/python3.10/dist-packages (from catboost) (3.7.1)\n",
            "Requirement already satisfied: numpy>=1.16.0 in /usr/local/lib/python3.10/dist-packages (from catboost) (1.22.4)\n",
            "Requirement already satisfied: pandas>=0.24 in /usr/local/lib/python3.10/dist-packages (from catboost) (1.5.3)\n",
            "Requirement already satisfied: scipy in /usr/local/lib/python3.10/dist-packages (from catboost) (1.10.1)\n",
            "Requirement already satisfied: plotly in /usr/local/lib/python3.10/dist-packages (from catboost) (5.13.1)\n",
            "Requirement already satisfied: six in /usr/local/lib/python3.10/dist-packages (from catboost) (1.16.0)\n",
            "Requirement already satisfied: python-dateutil>=2.8.1 in /usr/local/lib/python3.10/dist-packages (from pandas>=0.24->catboost) (2.8.2)\n",
            "Requirement already satisfied: pytz>=2020.1 in /usr/local/lib/python3.10/dist-packages (from pandas>=0.24->catboost) (2022.7.1)\n",
            "Requirement already satisfied: contourpy>=1.0.1 in /usr/local/lib/python3.10/dist-packages (from matplotlib->catboost) (1.1.0)\n",
            "Requirement already satisfied: cycler>=0.10 in /usr/local/lib/python3.10/dist-packages (from matplotlib->catboost) (0.11.0)\n",
            "Requirement already satisfied: fonttools>=4.22.0 in /usr/local/lib/python3.10/dist-packages (from matplotlib->catboost) (4.41.1)\n",
            "Requirement already satisfied: kiwisolver>=1.0.1 in /usr/local/lib/python3.10/dist-packages (from matplotlib->catboost) (1.4.4)\n",
            "Requirement already satisfied: packaging>=20.0 in /usr/local/lib/python3.10/dist-packages (from matplotlib->catboost) (23.1)\n",
            "Requirement already satisfied: pillow>=6.2.0 in /usr/local/lib/python3.10/dist-packages (from matplotlib->catboost) (9.4.0)\n",
            "Requirement already satisfied: pyparsing>=2.3.1 in /usr/local/lib/python3.10/dist-packages (from matplotlib->catboost) (3.1.0)\n",
            "Requirement already satisfied: tenacity>=6.2.0 in /usr/local/lib/python3.10/dist-packages (from plotly->catboost) (8.2.2)\n",
            "Installing collected packages: catboost\n",
            "Successfully installed catboost-1.2\n"
          ]
        }
      ]
    },
    {
      "cell_type": "code",
      "execution_count": null,
      "metadata": {
        "id": "AXwmpt2FLef5"
      },
      "outputs": [],
      "source": [
        "import pandas as pd\n",
        "import numpy as np\n",
        "import seaborn as sns\n",
        "import matplotlib.pyplot as plt\n",
        "import json, tqdm\n",
        "from tabulate import tabulate\n",
        "\n",
        "from catboost import CatBoostRegressor\n",
        "from xgboost import XGBRegressor\n",
        "from lightgbm import LGBMRegressor\n",
        "from sklearn.neighbors import KNeighborsRegressor\n",
        "from sklearn.svm import SVR\n",
        "from sklearn.linear_model import LinearRegression, Ridge, Lasso\n",
        "from sklearn.ensemble import RandomForestRegressor\n",
        "\n",
        "from sklearn.neighbors import KNeighborsClassifier\n",
        "from sklearn.svm import SVC\n",
        "from sklearn.linear_model import LogisticRegression, RidgeClassifier, Lasso\n",
        "from sklearn.ensemble import RandomForestClassifier\n",
        "from catboost import CatBoostClassifier\n",
        "from xgboost import XGBClassifier\n",
        "from lightgbm import LGBMClassifier\n",
        "\n",
        "from sklearn.metrics import mean_absolute_error, roc_auc_score, roc_curve, mean_squared_error\n",
        "from sklearn.metrics import accuracy_score, precision_score, recall_score, f1_score\n",
        "from sklearn.model_selection import train_test_split as tts\n",
        "from sklearn.impute import KNNImputer\n",
        "from sklearn.preprocessing import LabelEncoder\n",
        "le = LabelEncoder()\n",
        "\n",
        "import tensorflow as tf\n",
        "from tensorflow.keras.models import Sequential\n",
        "from tensorflow.keras.layers import LSTM, Dense\n",
        "\n",
        "import gensim\n",
        "from gensim.parsing.preprocessing import preprocess_string, strip_punctuation\n",
        "from nltk.corpus import stopwords\n",
        "import nltk\n",
        "from gensim.models import Word2Vec"
      ]
    },
    {
      "cell_type": "markdown",
      "source": [
        "Reading the data"
      ],
      "metadata": {
        "id": "pchV13EWNwFz"
      }
    },
    {
      "cell_type": "code",
      "source": [
        "data = pd.read_excel(\"/content/drive/MyDrive/Trilytics/data.xlsx\", sheet_name='Data')\n",
        "data.sample(5)"
      ],
      "metadata": {
        "colab": {
          "base_uri": "https://localhost:8080/",
          "height": 768
        },
        "id": "vT8EjzqDNmBb",
        "outputId": "c40a5230-3bc6-45c8-961c-356fba8d8d49"
      },
      "execution_count": null,
      "outputs": [
        {
          "output_type": "stream",
          "name": "stderr",
          "text": [
            "/usr/local/lib/python3.10/dist-packages/openpyxl/worksheet/_reader.py:312: UserWarning: Unknown extension is not supported and will be removed\n",
            "  warn(msg)\n"
          ]
        },
        {
          "output_type": "execute_result",
          "data": {
            "text/plain": [
              "        DOCUMENT_NO  SUBUNIT_CD                           SUBUNIT ACCIDENT_DT  \\\n",
              "19987  220221000000           1                       UNDERGROUND  2022-02-17   \n",
              "19085  220022000000           1                       UNDERGROUND  2002-06-28   \n",
              "8268   220220000000           1                       UNDERGROUND  2022-01-10   \n",
              "33888  220203000000          30  MILL OPERATION/PREPARATION PLANT  2020-10-07   \n",
              "268    220130000000           1                       UNDERGROUND  2012-12-31   \n",
              "\n",
              "       CAL_YR  CAL_QTR  FISCAL_YR  FISCAL_QTR  ACCIDENT_TIME DEGREE_INJURY_CD  \\\n",
              "19987    2022        1       2022           2           2320                2   \n",
              "19085    2002        2       2002           3            800                3   \n",
              "8268     2022        1       2022           2           1700                3   \n",
              "33888    2020        4       2021           1            745                0   \n",
              "268      2012        4       2013           1           1900                3   \n",
              "\n",
              "       ... DAYS_LOST  TRANS_TERM RETURN_TO_WORK_DT IMMED_NOTIFY_CD  \\\n",
              "19987  ...      13.0           N         3/28/2022              ?    \n",
              "19085  ...      25.0           N         8/12/2002              13   \n",
              "8268   ...      46.0           N          3/9/2022              ?    \n",
              "33888  ...       NaN         NaN               NaN               6   \n",
              "268    ...      27.0           N          2/5/2013              ?    \n",
              "\n",
              "         IMMED_NOTIFY INVEST_BEGIN_DT  \\\n",
              "19987  NO VALUE FOUND             NaN   \n",
              "19085      NOT MARKED             NaN   \n",
              "8268   NO VALUE FOUND             NaN   \n",
              "33888       MINE FIRE       10/7/2020   \n",
              "268    NO VALUE FOUND             NaN   \n",
              "\n",
              "                                               NARRATIVE CLOSED_DOC_NO  \\\n",
              "19987  injured was unlatching fence hook on atrs pad ...  3.202210e+11   \n",
              "19085  as the employee swung the roof bolter head aro...  3.200220e+11   \n",
              "8268   ee pulled on hog panel to free it up on the bo...  3.202210e+11   \n",
              "33888  smoke was observed coming from the north end o...           NaN   \n",
              "268    employee was loading bundles of 8 foot roof bo...  3.201300e+11   \n",
              "\n",
              "      COAL_METAL_IND         CLASSIFICATION  \n",
              "19987              C  HANDLING OF MATERIALS  \n",
              "19085              C  HANDLING OF MATERIALS  \n",
              "8268               C  HANDLING OF MATERIALS  \n",
              "33888              C         FIRE/EXPLOSION  \n",
              "268                C  HANDLING OF MATERIALS  \n",
              "\n",
              "[5 rows x 49 columns]"
            ],
            "text/html": [
              "\n",
              "\n",
              "  <div id=\"df-ba6a2636-d34e-4696-8010-4f05229227e6\">\n",
              "    <div class=\"colab-df-container\">\n",
              "      <div>\n",
              "<style scoped>\n",
              "    .dataframe tbody tr th:only-of-type {\n",
              "        vertical-align: middle;\n",
              "    }\n",
              "\n",
              "    .dataframe tbody tr th {\n",
              "        vertical-align: top;\n",
              "    }\n",
              "\n",
              "    .dataframe thead th {\n",
              "        text-align: right;\n",
              "    }\n",
              "</style>\n",
              "<table border=\"1\" class=\"dataframe\">\n",
              "  <thead>\n",
              "    <tr style=\"text-align: right;\">\n",
              "      <th></th>\n",
              "      <th>DOCUMENT_NO</th>\n",
              "      <th>SUBUNIT_CD</th>\n",
              "      <th>SUBUNIT</th>\n",
              "      <th>ACCIDENT_DT</th>\n",
              "      <th>CAL_YR</th>\n",
              "      <th>CAL_QTR</th>\n",
              "      <th>FISCAL_YR</th>\n",
              "      <th>FISCAL_QTR</th>\n",
              "      <th>ACCIDENT_TIME</th>\n",
              "      <th>DEGREE_INJURY_CD</th>\n",
              "      <th>...</th>\n",
              "      <th>DAYS_LOST</th>\n",
              "      <th>TRANS_TERM</th>\n",
              "      <th>RETURN_TO_WORK_DT</th>\n",
              "      <th>IMMED_NOTIFY_CD</th>\n",
              "      <th>IMMED_NOTIFY</th>\n",
              "      <th>INVEST_BEGIN_DT</th>\n",
              "      <th>NARRATIVE</th>\n",
              "      <th>CLOSED_DOC_NO</th>\n",
              "      <th>COAL_METAL_IND</th>\n",
              "      <th>CLASSIFICATION</th>\n",
              "    </tr>\n",
              "  </thead>\n",
              "  <tbody>\n",
              "    <tr>\n",
              "      <th>19987</th>\n",
              "      <td>220221000000</td>\n",
              "      <td>1</td>\n",
              "      <td>UNDERGROUND</td>\n",
              "      <td>2022-02-17</td>\n",
              "      <td>2022</td>\n",
              "      <td>1</td>\n",
              "      <td>2022</td>\n",
              "      <td>2</td>\n",
              "      <td>2320</td>\n",
              "      <td>2</td>\n",
              "      <td>...</td>\n",
              "      <td>13.0</td>\n",
              "      <td>N</td>\n",
              "      <td>3/28/2022</td>\n",
              "      <td>?</td>\n",
              "      <td>NO VALUE FOUND</td>\n",
              "      <td>NaN</td>\n",
              "      <td>injured was unlatching fence hook on atrs pad ...</td>\n",
              "      <td>3.202210e+11</td>\n",
              "      <td>C</td>\n",
              "      <td>HANDLING OF MATERIALS</td>\n",
              "    </tr>\n",
              "    <tr>\n",
              "      <th>19085</th>\n",
              "      <td>220022000000</td>\n",
              "      <td>1</td>\n",
              "      <td>UNDERGROUND</td>\n",
              "      <td>2002-06-28</td>\n",
              "      <td>2002</td>\n",
              "      <td>2</td>\n",
              "      <td>2002</td>\n",
              "      <td>3</td>\n",
              "      <td>800</td>\n",
              "      <td>3</td>\n",
              "      <td>...</td>\n",
              "      <td>25.0</td>\n",
              "      <td>N</td>\n",
              "      <td>8/12/2002</td>\n",
              "      <td>13</td>\n",
              "      <td>NOT MARKED</td>\n",
              "      <td>NaN</td>\n",
              "      <td>as the employee swung the roof bolter head aro...</td>\n",
              "      <td>3.200220e+11</td>\n",
              "      <td>C</td>\n",
              "      <td>HANDLING OF MATERIALS</td>\n",
              "    </tr>\n",
              "    <tr>\n",
              "      <th>8268</th>\n",
              "      <td>220220000000</td>\n",
              "      <td>1</td>\n",
              "      <td>UNDERGROUND</td>\n",
              "      <td>2022-01-10</td>\n",
              "      <td>2022</td>\n",
              "      <td>1</td>\n",
              "      <td>2022</td>\n",
              "      <td>2</td>\n",
              "      <td>1700</td>\n",
              "      <td>3</td>\n",
              "      <td>...</td>\n",
              "      <td>46.0</td>\n",
              "      <td>N</td>\n",
              "      <td>3/9/2022</td>\n",
              "      <td>?</td>\n",
              "      <td>NO VALUE FOUND</td>\n",
              "      <td>NaN</td>\n",
              "      <td>ee pulled on hog panel to free it up on the bo...</td>\n",
              "      <td>3.202210e+11</td>\n",
              "      <td>C</td>\n",
              "      <td>HANDLING OF MATERIALS</td>\n",
              "    </tr>\n",
              "    <tr>\n",
              "      <th>33888</th>\n",
              "      <td>220203000000</td>\n",
              "      <td>30</td>\n",
              "      <td>MILL OPERATION/PREPARATION PLANT</td>\n",
              "      <td>2020-10-07</td>\n",
              "      <td>2020</td>\n",
              "      <td>4</td>\n",
              "      <td>2021</td>\n",
              "      <td>1</td>\n",
              "      <td>745</td>\n",
              "      <td>0</td>\n",
              "      <td>...</td>\n",
              "      <td>NaN</td>\n",
              "      <td>NaN</td>\n",
              "      <td>NaN</td>\n",
              "      <td>6</td>\n",
              "      <td>MINE FIRE</td>\n",
              "      <td>10/7/2020</td>\n",
              "      <td>smoke was observed coming from the north end o...</td>\n",
              "      <td>NaN</td>\n",
              "      <td>C</td>\n",
              "      <td>FIRE/EXPLOSION</td>\n",
              "    </tr>\n",
              "    <tr>\n",
              "      <th>268</th>\n",
              "      <td>220130000000</td>\n",
              "      <td>1</td>\n",
              "      <td>UNDERGROUND</td>\n",
              "      <td>2012-12-31</td>\n",
              "      <td>2012</td>\n",
              "      <td>4</td>\n",
              "      <td>2013</td>\n",
              "      <td>1</td>\n",
              "      <td>1900</td>\n",
              "      <td>3</td>\n",
              "      <td>...</td>\n",
              "      <td>27.0</td>\n",
              "      <td>N</td>\n",
              "      <td>2/5/2013</td>\n",
              "      <td>?</td>\n",
              "      <td>NO VALUE FOUND</td>\n",
              "      <td>NaN</td>\n",
              "      <td>employee was loading bundles of 8 foot roof bo...</td>\n",
              "      <td>3.201300e+11</td>\n",
              "      <td>C</td>\n",
              "      <td>HANDLING OF MATERIALS</td>\n",
              "    </tr>\n",
              "  </tbody>\n",
              "</table>\n",
              "<p>5 rows × 49 columns</p>\n",
              "</div>\n",
              "      <button class=\"colab-df-convert\" onclick=\"convertToInteractive('df-ba6a2636-d34e-4696-8010-4f05229227e6')\"\n",
              "              title=\"Convert this dataframe to an interactive table.\"\n",
              "              style=\"display:none;\">\n",
              "\n",
              "  <svg xmlns=\"http://www.w3.org/2000/svg\" height=\"24px\"viewBox=\"0 0 24 24\"\n",
              "       width=\"24px\">\n",
              "    <path d=\"M0 0h24v24H0V0z\" fill=\"none\"/>\n",
              "    <path d=\"M18.56 5.44l.94 2.06.94-2.06 2.06-.94-2.06-.94-.94-2.06-.94 2.06-2.06.94zm-11 1L8.5 8.5l.94-2.06 2.06-.94-2.06-.94L8.5 2.5l-.94 2.06-2.06.94zm10 10l.94 2.06.94-2.06 2.06-.94-2.06-.94-.94-2.06-.94 2.06-2.06.94z\"/><path d=\"M17.41 7.96l-1.37-1.37c-.4-.4-.92-.59-1.43-.59-.52 0-1.04.2-1.43.59L10.3 9.45l-7.72 7.72c-.78.78-.78 2.05 0 2.83L4 21.41c.39.39.9.59 1.41.59.51 0 1.02-.2 1.41-.59l7.78-7.78 2.81-2.81c.8-.78.8-2.07 0-2.86zM5.41 20L4 18.59l7.72-7.72 1.47 1.35L5.41 20z\"/>\n",
              "  </svg>\n",
              "      </button>\n",
              "\n",
              "\n",
              "\n",
              "    <div id=\"df-080cc4b0-016f-4b24-abcc-cc5f18eeb937\">\n",
              "      <button class=\"colab-df-quickchart\" onclick=\"quickchart('df-080cc4b0-016f-4b24-abcc-cc5f18eeb937')\"\n",
              "              title=\"Suggest charts.\"\n",
              "              style=\"display:none;\">\n",
              "\n",
              "<svg xmlns=\"http://www.w3.org/2000/svg\" height=\"24px\"viewBox=\"0 0 24 24\"\n",
              "     width=\"24px\">\n",
              "    <g>\n",
              "        <path d=\"M19 3H5c-1.1 0-2 .9-2 2v14c0 1.1.9 2 2 2h14c1.1 0 2-.9 2-2V5c0-1.1-.9-2-2-2zM9 17H7v-7h2v7zm4 0h-2V7h2v10zm4 0h-2v-4h2v4z\"/>\n",
              "    </g>\n",
              "</svg>\n",
              "      </button>\n",
              "    </div>\n",
              "\n",
              "<style>\n",
              "  .colab-df-quickchart {\n",
              "    background-color: #E8F0FE;\n",
              "    border: none;\n",
              "    border-radius: 50%;\n",
              "    cursor: pointer;\n",
              "    display: none;\n",
              "    fill: #1967D2;\n",
              "    height: 32px;\n",
              "    padding: 0 0 0 0;\n",
              "    width: 32px;\n",
              "  }\n",
              "\n",
              "  .colab-df-quickchart:hover {\n",
              "    background-color: #E2EBFA;\n",
              "    box-shadow: 0px 1px 2px rgba(60, 64, 67, 0.3), 0px 1px 3px 1px rgba(60, 64, 67, 0.15);\n",
              "    fill: #174EA6;\n",
              "  }\n",
              "\n",
              "  [theme=dark] .colab-df-quickchart {\n",
              "    background-color: #3B4455;\n",
              "    fill: #D2E3FC;\n",
              "  }\n",
              "\n",
              "  [theme=dark] .colab-df-quickchart:hover {\n",
              "    background-color: #434B5C;\n",
              "    box-shadow: 0px 1px 3px 1px rgba(0, 0, 0, 0.15);\n",
              "    filter: drop-shadow(0px 1px 2px rgba(0, 0, 0, 0.3));\n",
              "    fill: #FFFFFF;\n",
              "  }\n",
              "</style>\n",
              "\n",
              "    <script>\n",
              "      async function quickchart(key) {\n",
              "        const containerElement = document.querySelector('#' + key);\n",
              "        const charts = await google.colab.kernel.invokeFunction(\n",
              "            'suggestCharts', [key], {});\n",
              "      }\n",
              "    </script>\n",
              "\n",
              "      <script>\n",
              "\n",
              "function displayQuickchartButton(domScope) {\n",
              "  let quickchartButtonEl =\n",
              "    domScope.querySelector('#df-080cc4b0-016f-4b24-abcc-cc5f18eeb937 button.colab-df-quickchart');\n",
              "  quickchartButtonEl.style.display =\n",
              "    google.colab.kernel.accessAllowed ? 'block' : 'none';\n",
              "}\n",
              "\n",
              "        displayQuickchartButton(document);\n",
              "      </script>\n",
              "      <style>\n",
              "    .colab-df-container {\n",
              "      display:flex;\n",
              "      flex-wrap:wrap;\n",
              "      gap: 12px;\n",
              "    }\n",
              "\n",
              "    .colab-df-convert {\n",
              "      background-color: #E8F0FE;\n",
              "      border: none;\n",
              "      border-radius: 50%;\n",
              "      cursor: pointer;\n",
              "      display: none;\n",
              "      fill: #1967D2;\n",
              "      height: 32px;\n",
              "      padding: 0 0 0 0;\n",
              "      width: 32px;\n",
              "    }\n",
              "\n",
              "    .colab-df-convert:hover {\n",
              "      background-color: #E2EBFA;\n",
              "      box-shadow: 0px 1px 2px rgba(60, 64, 67, 0.3), 0px 1px 3px 1px rgba(60, 64, 67, 0.15);\n",
              "      fill: #174EA6;\n",
              "    }\n",
              "\n",
              "    [theme=dark] .colab-df-convert {\n",
              "      background-color: #3B4455;\n",
              "      fill: #D2E3FC;\n",
              "    }\n",
              "\n",
              "    [theme=dark] .colab-df-convert:hover {\n",
              "      background-color: #434B5C;\n",
              "      box-shadow: 0px 1px 3px 1px rgba(0, 0, 0, 0.15);\n",
              "      filter: drop-shadow(0px 1px 2px rgba(0, 0, 0, 0.3));\n",
              "      fill: #FFFFFF;\n",
              "    }\n",
              "  </style>\n",
              "\n",
              "      <script>\n",
              "        const buttonEl =\n",
              "          document.querySelector('#df-ba6a2636-d34e-4696-8010-4f05229227e6 button.colab-df-convert');\n",
              "        buttonEl.style.display =\n",
              "          google.colab.kernel.accessAllowed ? 'block' : 'none';\n",
              "\n",
              "        async function convertToInteractive(key) {\n",
              "          const element = document.querySelector('#df-ba6a2636-d34e-4696-8010-4f05229227e6');\n",
              "          const dataTable =\n",
              "            await google.colab.kernel.invokeFunction('convertToInteractive',\n",
              "                                                     [key], {});\n",
              "          if (!dataTable) return;\n",
              "\n",
              "          const docLinkHtml = 'Like what you see? Visit the ' +\n",
              "            '<a target=\"_blank\" href=https://colab.research.google.com/notebooks/data_table.ipynb>data table notebook</a>'\n",
              "            + ' to learn more about interactive tables.';\n",
              "          element.innerHTML = '';\n",
              "          dataTable['output_type'] = 'display_data';\n",
              "          await google.colab.output.renderOutput(dataTable, element);\n",
              "          const docLink = document.createElement('div');\n",
              "          docLink.innerHTML = docLinkHtml;\n",
              "          element.appendChild(docLink);\n",
              "        }\n",
              "      </script>\n",
              "    </div>\n",
              "  </div>\n"
            ]
          },
          "metadata": {},
          "execution_count": 39
        }
      ]
    },
    {
      "cell_type": "markdown",
      "source": [
        "We decided to build two diffrent models. One for predicting the **risk of an accident happening** and the other will assess the **bussiness, health and safety impact if an accident does happen**."
      ],
      "metadata": {
        "id": "LUD6av20OgZk"
      }
    },
    {
      "cell_type": "markdown",
      "source": [
        "## Part 01: **Risk Assessment**: Predicting the risk of an accident happening"
      ],
      "metadata": {
        "id": "f50mDgkoPQni"
      }
    },
    {
      "cell_type": "markdown",
      "source": [
        "### Step 01: Feature Engineering"
      ],
      "metadata": {
        "id": "2of7Kp3IQ3hM"
      }
    },
    {
      "cell_type": "code",
      "source": [
        "# A function to help encode the textual columns\n",
        "def encode(col):\n",
        "    df[col] = le.fit_transform(data[col])\n",
        "    # Save the encodings in a json for later use\n",
        "    label_mapping = dict(zip(le.classes_, map(int, le.transform(le.classes_))))\n",
        "    with open(col+'.json', 'w') as json_file:\n",
        "        json.dump(label_mapping, json_file)"
      ],
      "metadata": {
        "id": "B3Em5H9SUzyG"
      },
      "execution_count": null,
      "outputs": []
    },
    {
      "cell_type": "markdown",
      "source": [
        "To predict the risk of an accident happening the following features were considered:\n",
        "\n",
        "*   ACCIDENT_DT\n",
        "*   COAL_METAL_IND\n",
        "*   EQUIP_MFR_NAME\n",
        "*   EQUIP_MODEL_NO\n",
        "*   FIPS_STATE_CD\n",
        "*   JOB_EXPER\n",
        "*   MINE_EXPER\n",
        "*   MINING_EQUIP\n",
        "*   OCCUPATION\n",
        "*   TOT_EXPER"
      ],
      "metadata": {
        "id": "k4FjNt0mPrCd"
      }
    },
    {
      "cell_type": "code",
      "source": [
        "# We create a new DataFrame to store the data for training\n",
        "df = pd.DataFrame()"
      ],
      "metadata": {
        "id": "IBUJwsN-OD9f"
      },
      "execution_count": null,
      "outputs": []
    },
    {
      "cell_type": "code",
      "source": [
        "# We parse the Accident Date to store the day, month, qtr and year value\n",
        "df['ACCIDENT_DAY'] = pd.to_datetime(data['ACCIDENT_DT']).dt.dayofweek\n",
        "df['ACCIDENT_MONTH'] = pd.to_datetime(data['ACCIDENT_DT']).dt.month\n",
        "df['ACCIDENT_QTR'] = pd.to_datetime(data['ACCIDENT_DT']).dt.quarter\n",
        "df['ACCIDENT_YEAR'] = pd.to_datetime(data['ACCIDENT_DT']).dt.year"
      ],
      "metadata": {
        "id": "xiT4sktUQdSv"
      },
      "execution_count": null,
      "outputs": []
    },
    {
      "cell_type": "code",
      "source": [
        "# We create a column to store whether the mine was coal (1) or metal (0)\n",
        "df['COAL_MINE'] = data['COAL_METAL_IND'].map({'C':1, 'M':0})"
      ],
      "metadata": {
        "id": "WxSYZFxbRW-k"
      },
      "execution_count": null,
      "outputs": []
    },
    {
      "cell_type": "code",
      "source": [
        "# Incase of EQP MFR NAME 17.4K records were 'NO VALUE FOUND' or 'Not Reported' or 'Not Listed'. So we clubbed them into a separate class 'Missing' and then encoded them\n",
        "def missing(s):\n",
        "    return 'Missing' if s in ['NO VALUE FOUND' , 'Not Reported' , 'Not Listed'] else s\n",
        "data['EQUIP_MFR_NAME'] = data['EQUIP_MFR_NAME'].apply(missing)\n",
        "# Encode the column\n",
        "encode('EQUIP_MFR_NAME')"
      ],
      "metadata": {
        "id": "irU-VMppR0gt"
      },
      "execution_count": null,
      "outputs": []
    },
    {
      "cell_type": "code",
      "source": [
        "# Doing the same with EQP MODEL\n",
        "def missing(s):\n",
        "    return 'NA' if s=='?' else s\n",
        "data['EQUIP_MODEL_NO'] = data['EQUIP_MODEL_NO'].apply(missing)\n",
        "encode('EQUIP_MODEL_NO')"
      ],
      "metadata": {
        "id": "0RQhPs-vV8d5"
      },
      "execution_count": null,
      "outputs": []
    },
    {
      "cell_type": "code",
      "source": [
        "df['FIPS_STATE_CD'] = data['FIPS_STATE_CD']\n",
        "df['JOB_EXPER'] = data['JOB_EXPER']\n",
        "df['MINE_EXPER'] = data['MINE_EXPER']\n",
        "df['BFORE_MINE_EXP'] = data['TOT_EXPER'] - data['MINE_EXPER']\n",
        "df['BFORE_JOB_EXP'] = data['TOT_EXPER'] - data['JOB_EXPER']"
      ],
      "metadata": {
        "id": "hec1o0zXWVgl"
      },
      "execution_count": null,
      "outputs": []
    },
    {
      "cell_type": "code",
      "source": [
        "# Doing the same with EQP MODEL\n",
        "def missing(s):\n",
        "    return 'NA' if s=='NO VALUE FOUND' else s\n",
        "data['MINING_EQUIP'] = data['MINING_EQUIP'].apply(missing)\n",
        "encode('MINING_EQUIP')"
      ],
      "metadata": {
        "id": "KtSXhUTmXTMo"
      },
      "execution_count": null,
      "outputs": []
    },
    {
      "cell_type": "code",
      "source": [
        "# Doing the same with OCCUPATION\n",
        "def missing(s):\n",
        "    return 'NA' if s=='NO VALUE FOUND' else s\n",
        "data['OCCUPATION'] = data['OCCUPATION'].apply(missing)\n",
        "encode('OCCUPATION')"
      ],
      "metadata": {
        "id": "2HeO4Hm1YMeH"
      },
      "execution_count": null,
      "outputs": []
    },
    {
      "cell_type": "code",
      "source": [
        "# Mp the time the shift began\n",
        "def map_time_to_bin(float_time):\n",
        "    if not (float_time<2359 and float_time>0.0): return ''\n",
        "    time_str = str(int(float_time)).zfill(4)\n",
        "    time_obj = pd.to_datetime(time_str, format='%H%M').time()\n",
        "    morning_start = pd.to_datetime('06:00', format='%H:%M').time()\n",
        "    morning_end = pd.to_datetime('12:00', format='%H:%M').time()\n",
        "    afternoon_start = pd.to_datetime('12:00', format='%H:%M').time()\n",
        "    afternoon_end = pd.to_datetime('18:00', format='%H:%M').time()\n",
        "    evening_start = pd.to_datetime('18:00', format='%H:%M').time()\n",
        "    evening_end = pd.to_datetime('22:00', format='%H:%M').time()\n",
        "\n",
        "    if morning_start <= time_obj < morning_end:\n",
        "        return int(0)\n",
        "    elif afternoon_start <= time_obj < afternoon_end:\n",
        "        return int(1)\n",
        "    elif evening_start <= time_obj < evening_end:\n",
        "        return int(2)\n",
        "    else:\n",
        "        return int(3)\n",
        "df['SHIFT'] = data['SHIFT_BEGIN_TIME'].apply(map_time_to_bin)"
      ],
      "metadata": {
        "id": "aewdd3sXYqgE"
      },
      "execution_count": null,
      "outputs": []
    },
    {
      "cell_type": "code",
      "source": [
        "df['SHIFT'] = pd.to_numeric(df['SHIFT'], errors='coerce').astype('Int64')"
      ],
      "metadata": {
        "id": "Shgv8bcIbH2w"
      },
      "execution_count": null,
      "outputs": []
    },
    {
      "cell_type": "code",
      "source": [
        "# Visualizing the dataframe\n",
        "df.sample(5)"
      ],
      "metadata": {
        "colab": {
          "base_uri": "https://localhost:8080/"
        },
        "id": "ase2jrozUkC_",
        "outputId": "3d785739-a10c-49f0-c975-3b22705d7fed"
      },
      "execution_count": null,
      "outputs": [
        {
          "output_type": "execute_result",
          "data": {
            "text/plain": [
              "       ACCIDENT_DAY  ACCIDENT_MONTH  ACCIDENT_QTR  ACCIDENT_YEAR  COAL_MINE  \\\n",
              "5804              5               7             3           2011          1   \n",
              "28798             5               6             2           2019          1   \n",
              "18292             0               3             1           2005          1   \n",
              "33712             5               6             2           2004          1   \n",
              "21888             5               1             1           2005          1   \n",
              "\n",
              "       EQUIP_MFR_NAME  EQUIP_MODEL_NO  FIPS_STATE_CD  JOB_EXPER  MINE_EXPER  \\\n",
              "5804               98            3618             54       3.00        1.00   \n",
              "28798              98            3618             54       1.40       11.15   \n",
              "18292              98            3618             17       0.38        0.54   \n",
              "33712             108            1738             17        NaN         NaN   \n",
              "21888              98            3618             51      20.00        0.04   \n",
              "\n",
              "       BFORE_MINE_EXP  BFORE_JOB_EXP  MINING_EQUIP  OCCUPATION  SHIFT  \n",
              "5804             4.00           2.00            41         112      1  \n",
              "28798            1.00          10.75            41          96      1  \n",
              "18292            0.00           0.16            51          99      1  \n",
              "33712             NaN            NaN            35          88      0  \n",
              "21888           26.96           7.00            51          99      0  "
            ],
            "text/html": [
              "\n",
              "\n",
              "  <div id=\"df-02b9fca3-1e9f-4223-85e9-4e55df3cad4a\">\n",
              "    <div class=\"colab-df-container\">\n",
              "      <div>\n",
              "<style scoped>\n",
              "    .dataframe tbody tr th:only-of-type {\n",
              "        vertical-align: middle;\n",
              "    }\n",
              "\n",
              "    .dataframe tbody tr th {\n",
              "        vertical-align: top;\n",
              "    }\n",
              "\n",
              "    .dataframe thead th {\n",
              "        text-align: right;\n",
              "    }\n",
              "</style>\n",
              "<table border=\"1\" class=\"dataframe\">\n",
              "  <thead>\n",
              "    <tr style=\"text-align: right;\">\n",
              "      <th></th>\n",
              "      <th>ACCIDENT_DAY</th>\n",
              "      <th>ACCIDENT_MONTH</th>\n",
              "      <th>ACCIDENT_QTR</th>\n",
              "      <th>ACCIDENT_YEAR</th>\n",
              "      <th>COAL_MINE</th>\n",
              "      <th>EQUIP_MFR_NAME</th>\n",
              "      <th>EQUIP_MODEL_NO</th>\n",
              "      <th>FIPS_STATE_CD</th>\n",
              "      <th>JOB_EXPER</th>\n",
              "      <th>MINE_EXPER</th>\n",
              "      <th>BFORE_MINE_EXP</th>\n",
              "      <th>BFORE_JOB_EXP</th>\n",
              "      <th>MINING_EQUIP</th>\n",
              "      <th>OCCUPATION</th>\n",
              "      <th>SHIFT</th>\n",
              "    </tr>\n",
              "  </thead>\n",
              "  <tbody>\n",
              "    <tr>\n",
              "      <th>5804</th>\n",
              "      <td>5</td>\n",
              "      <td>7</td>\n",
              "      <td>3</td>\n",
              "      <td>2011</td>\n",
              "      <td>1</td>\n",
              "      <td>98</td>\n",
              "      <td>3618</td>\n",
              "      <td>54</td>\n",
              "      <td>3.00</td>\n",
              "      <td>1.00</td>\n",
              "      <td>4.00</td>\n",
              "      <td>2.00</td>\n",
              "      <td>41</td>\n",
              "      <td>112</td>\n",
              "      <td>1</td>\n",
              "    </tr>\n",
              "    <tr>\n",
              "      <th>28798</th>\n",
              "      <td>5</td>\n",
              "      <td>6</td>\n",
              "      <td>2</td>\n",
              "      <td>2019</td>\n",
              "      <td>1</td>\n",
              "      <td>98</td>\n",
              "      <td>3618</td>\n",
              "      <td>54</td>\n",
              "      <td>1.40</td>\n",
              "      <td>11.15</td>\n",
              "      <td>1.00</td>\n",
              "      <td>10.75</td>\n",
              "      <td>41</td>\n",
              "      <td>96</td>\n",
              "      <td>1</td>\n",
              "    </tr>\n",
              "    <tr>\n",
              "      <th>18292</th>\n",
              "      <td>0</td>\n",
              "      <td>3</td>\n",
              "      <td>1</td>\n",
              "      <td>2005</td>\n",
              "      <td>1</td>\n",
              "      <td>98</td>\n",
              "      <td>3618</td>\n",
              "      <td>17</td>\n",
              "      <td>0.38</td>\n",
              "      <td>0.54</td>\n",
              "      <td>0.00</td>\n",
              "      <td>0.16</td>\n",
              "      <td>51</td>\n",
              "      <td>99</td>\n",
              "      <td>1</td>\n",
              "    </tr>\n",
              "    <tr>\n",
              "      <th>33712</th>\n",
              "      <td>5</td>\n",
              "      <td>6</td>\n",
              "      <td>2</td>\n",
              "      <td>2004</td>\n",
              "      <td>1</td>\n",
              "      <td>108</td>\n",
              "      <td>1738</td>\n",
              "      <td>17</td>\n",
              "      <td>NaN</td>\n",
              "      <td>NaN</td>\n",
              "      <td>NaN</td>\n",
              "      <td>NaN</td>\n",
              "      <td>35</td>\n",
              "      <td>88</td>\n",
              "      <td>0</td>\n",
              "    </tr>\n",
              "    <tr>\n",
              "      <th>21888</th>\n",
              "      <td>5</td>\n",
              "      <td>1</td>\n",
              "      <td>1</td>\n",
              "      <td>2005</td>\n",
              "      <td>1</td>\n",
              "      <td>98</td>\n",
              "      <td>3618</td>\n",
              "      <td>51</td>\n",
              "      <td>20.00</td>\n",
              "      <td>0.04</td>\n",
              "      <td>26.96</td>\n",
              "      <td>7.00</td>\n",
              "      <td>51</td>\n",
              "      <td>99</td>\n",
              "      <td>0</td>\n",
              "    </tr>\n",
              "  </tbody>\n",
              "</table>\n",
              "</div>\n",
              "      <button class=\"colab-df-convert\" onclick=\"convertToInteractive('df-02b9fca3-1e9f-4223-85e9-4e55df3cad4a')\"\n",
              "              title=\"Convert this dataframe to an interactive table.\"\n",
              "              style=\"display:none;\">\n",
              "\n",
              "  <svg xmlns=\"http://www.w3.org/2000/svg\" height=\"24px\"viewBox=\"0 0 24 24\"\n",
              "       width=\"24px\">\n",
              "    <path d=\"M0 0h24v24H0V0z\" fill=\"none\"/>\n",
              "    <path d=\"M18.56 5.44l.94 2.06.94-2.06 2.06-.94-2.06-.94-.94-2.06-.94 2.06-2.06.94zm-11 1L8.5 8.5l.94-2.06 2.06-.94-2.06-.94L8.5 2.5l-.94 2.06-2.06.94zm10 10l.94 2.06.94-2.06 2.06-.94-2.06-.94-.94-2.06-.94 2.06-2.06.94z\"/><path d=\"M17.41 7.96l-1.37-1.37c-.4-.4-.92-.59-1.43-.59-.52 0-1.04.2-1.43.59L10.3 9.45l-7.72 7.72c-.78.78-.78 2.05 0 2.83L4 21.41c.39.39.9.59 1.41.59.51 0 1.02-.2 1.41-.59l7.78-7.78 2.81-2.81c.8-.78.8-2.07 0-2.86zM5.41 20L4 18.59l7.72-7.72 1.47 1.35L5.41 20z\"/>\n",
              "  </svg>\n",
              "      </button>\n",
              "\n",
              "\n",
              "\n",
              "    <div id=\"df-02013329-02f1-41e0-99c5-3554a287f861\">\n",
              "      <button class=\"colab-df-quickchart\" onclick=\"quickchart('df-02013329-02f1-41e0-99c5-3554a287f861')\"\n",
              "              title=\"Suggest charts.\"\n",
              "              style=\"display:none;\">\n",
              "\n",
              "<svg xmlns=\"http://www.w3.org/2000/svg\" height=\"24px\"viewBox=\"0 0 24 24\"\n",
              "     width=\"24px\">\n",
              "    <g>\n",
              "        <path d=\"M19 3H5c-1.1 0-2 .9-2 2v14c0 1.1.9 2 2 2h14c1.1 0 2-.9 2-2V5c0-1.1-.9-2-2-2zM9 17H7v-7h2v7zm4 0h-2V7h2v10zm4 0h-2v-4h2v4z\"/>\n",
              "    </g>\n",
              "</svg>\n",
              "      </button>\n",
              "    </div>\n",
              "\n",
              "<style>\n",
              "  .colab-df-quickchart {\n",
              "    background-color: #E8F0FE;\n",
              "    border: none;\n",
              "    border-radius: 50%;\n",
              "    cursor: pointer;\n",
              "    display: none;\n",
              "    fill: #1967D2;\n",
              "    height: 32px;\n",
              "    padding: 0 0 0 0;\n",
              "    width: 32px;\n",
              "  }\n",
              "\n",
              "  .colab-df-quickchart:hover {\n",
              "    background-color: #E2EBFA;\n",
              "    box-shadow: 0px 1px 2px rgba(60, 64, 67, 0.3), 0px 1px 3px 1px rgba(60, 64, 67, 0.15);\n",
              "    fill: #174EA6;\n",
              "  }\n",
              "\n",
              "  [theme=dark] .colab-df-quickchart {\n",
              "    background-color: #3B4455;\n",
              "    fill: #D2E3FC;\n",
              "  }\n",
              "\n",
              "  [theme=dark] .colab-df-quickchart:hover {\n",
              "    background-color: #434B5C;\n",
              "    box-shadow: 0px 1px 3px 1px rgba(0, 0, 0, 0.15);\n",
              "    filter: drop-shadow(0px 1px 2px rgba(0, 0, 0, 0.3));\n",
              "    fill: #FFFFFF;\n",
              "  }\n",
              "</style>\n",
              "\n",
              "    <script>\n",
              "      async function quickchart(key) {\n",
              "        const containerElement = document.querySelector('#' + key);\n",
              "        const charts = await google.colab.kernel.invokeFunction(\n",
              "            'suggestCharts', [key], {});\n",
              "      }\n",
              "    </script>\n",
              "\n",
              "      <script>\n",
              "\n",
              "function displayQuickchartButton(domScope) {\n",
              "  let quickchartButtonEl =\n",
              "    domScope.querySelector('#df-02013329-02f1-41e0-99c5-3554a287f861 button.colab-df-quickchart');\n",
              "  quickchartButtonEl.style.display =\n",
              "    google.colab.kernel.accessAllowed ? 'block' : 'none';\n",
              "}\n",
              "\n",
              "        displayQuickchartButton(document);\n",
              "      </script>\n",
              "      <style>\n",
              "    .colab-df-container {\n",
              "      display:flex;\n",
              "      flex-wrap:wrap;\n",
              "      gap: 12px;\n",
              "    }\n",
              "\n",
              "    .colab-df-convert {\n",
              "      background-color: #E8F0FE;\n",
              "      border: none;\n",
              "      border-radius: 50%;\n",
              "      cursor: pointer;\n",
              "      display: none;\n",
              "      fill: #1967D2;\n",
              "      height: 32px;\n",
              "      padding: 0 0 0 0;\n",
              "      width: 32px;\n",
              "    }\n",
              "\n",
              "    .colab-df-convert:hover {\n",
              "      background-color: #E2EBFA;\n",
              "      box-shadow: 0px 1px 2px rgba(60, 64, 67, 0.3), 0px 1px 3px 1px rgba(60, 64, 67, 0.15);\n",
              "      fill: #174EA6;\n",
              "    }\n",
              "\n",
              "    [theme=dark] .colab-df-convert {\n",
              "      background-color: #3B4455;\n",
              "      fill: #D2E3FC;\n",
              "    }\n",
              "\n",
              "    [theme=dark] .colab-df-convert:hover {\n",
              "      background-color: #434B5C;\n",
              "      box-shadow: 0px 1px 3px 1px rgba(0, 0, 0, 0.15);\n",
              "      filter: drop-shadow(0px 1px 2px rgba(0, 0, 0, 0.3));\n",
              "      fill: #FFFFFF;\n",
              "    }\n",
              "  </style>\n",
              "\n",
              "      <script>\n",
              "        const buttonEl =\n",
              "          document.querySelector('#df-02b9fca3-1e9f-4223-85e9-4e55df3cad4a button.colab-df-convert');\n",
              "        buttonEl.style.display =\n",
              "          google.colab.kernel.accessAllowed ? 'block' : 'none';\n",
              "\n",
              "        async function convertToInteractive(key) {\n",
              "          const element = document.querySelector('#df-02b9fca3-1e9f-4223-85e9-4e55df3cad4a');\n",
              "          const dataTable =\n",
              "            await google.colab.kernel.invokeFunction('convertToInteractive',\n",
              "                                                     [key], {});\n",
              "          if (!dataTable) return;\n",
              "\n",
              "          const docLinkHtml = 'Like what you see? Visit the ' +\n",
              "            '<a target=\"_blank\" href=https://colab.research.google.com/notebooks/data_table.ipynb>data table notebook</a>'\n",
              "            + ' to learn more about interactive tables.';\n",
              "          element.innerHTML = '';\n",
              "          dataTable['output_type'] = 'display_data';\n",
              "          await google.colab.output.renderOutput(dataTable, element);\n",
              "          const docLink = document.createElement('div');\n",
              "          docLink.innerHTML = docLinkHtml;\n",
              "          element.appendChild(docLink);\n",
              "        }\n",
              "      </script>\n",
              "    </div>\n",
              "  </div>\n"
            ]
          },
          "metadata": {},
          "execution_count": 15
        }
      ]
    },
    {
      "cell_type": "markdown",
      "source": [
        "### Data Cleaning"
      ],
      "metadata": {
        "id": "TLb2KJ0dZtX5"
      }
    },
    {
      "cell_type": "markdown",
      "source": [
        "Now we tackle missing values by using the KNNImputer to fill them in"
      ],
      "metadata": {
        "id": "A9ba78OcZxyw"
      }
    },
    {
      "cell_type": "code",
      "source": [
        "# Initializing the KNNImputer and fitting it into our data\n",
        "imputer = KNNImputer(n_neighbors=5)\n",
        "df = pd.DataFrame(imputer.fit_transform(df), columns=df.columns)"
      ],
      "metadata": {
        "id": "8kFqslJzRypT"
      },
      "execution_count": null,
      "outputs": []
    },
    {
      "cell_type": "code",
      "source": [
        "# We verify whether any missing value is still present in df\n",
        "df.isna().sum()"
      ],
      "metadata": {
        "colab": {
          "base_uri": "https://localhost:8080/"
        },
        "id": "rsdujPoXaZ5T",
        "outputId": "bb56b5e6-1a2d-4580-9cc4-2d3fc23acd4a"
      },
      "execution_count": null,
      "outputs": [
        {
          "output_type": "execute_result",
          "data": {
            "text/plain": [
              "ACCIDENT_DAY      0\n",
              "ACCIDENT_MONTH    0\n",
              "ACCIDENT_QTR      0\n",
              "ACCIDENT_YEAR     0\n",
              "COAL_MINE         0\n",
              "EQUIP_MFR_NAME    0\n",
              "EQUIP_MODEL_NO    0\n",
              "FIPS_STATE_CD     0\n",
              "JOB_EXPER         0\n",
              "MINE_EXPER        0\n",
              "BFORE_MINE_EXP    0\n",
              "BFORE_JOB_EXP     0\n",
              "MINING_EQUIP      0\n",
              "OCCUPATION        0\n",
              "SHIFT             0\n",
              "dtype: int64"
            ]
          },
          "metadata": {},
          "execution_count": 17
        }
      ]
    },
    {
      "cell_type": "markdown",
      "source": [
        "### Targets"
      ],
      "metadata": {
        "id": "0puVtGB-ckPL"
      }
    },
    {
      "cell_type": "markdown",
      "source": [
        "For the risk assessment we wanted to predict the following columns as target:\n",
        "* ACCIDENT_TYPE\n",
        "* ACTIVITY\n",
        "* CLASSIFICATION\n",
        "* DEGREE_INJURY\n",
        "* IMMED_NOTIFY\n",
        "* INJURY_SOURCE\n",
        "* NATURE_INJURY\n",
        "* NO_INJURIES\n",
        "* SUBUNIT\n",
        "* UG_LOCATION\n",
        "* UG_MINING_METHOD\n",
        "\n",
        "Among them only NO_INJURIES has continous values. All other are classification tasks."
      ],
      "metadata": {
        "id": "HkKYfuFZcmsC"
      }
    },
    {
      "cell_type": "code",
      "source": [
        "# Define a  function to encode the following targets\n",
        "def encode_target(col):\n",
        "    target[col] = le.fit_transform(data[col])\n",
        "    # Save the encodings in a json for later use\n",
        "    label_mapping = dict(zip(le.classes_, map(int, le.transform(le.classes_))))\n",
        "    with open(col+'.json', 'w') as json_file:\n",
        "        json.dump(label_mapping, json_file)"
      ],
      "metadata": {
        "id": "oHas2fO3aePg"
      },
      "execution_count": null,
      "outputs": []
    },
    {
      "cell_type": "code",
      "source": [
        "# Defining a new DataFrame\n",
        "target = pd.DataFrame()"
      ],
      "metadata": {
        "id": "KMk8ghHldsT9"
      },
      "execution_count": null,
      "outputs": []
    },
    {
      "cell_type": "code",
      "source": [
        "columns_to_encode = [\n",
        "    'ACCIDENT_TYPE',\n",
        "    'ACTIVITY',\n",
        "    'CLASSIFICATION',\n",
        "    'DEGREE_INJURY',\n",
        "    'IMMED_NOTIFY',\n",
        "    'INJURY_SOURCE',\n",
        "    'NATURE_INJURY',\n",
        "    'SUBUNIT',\n",
        "    'UG_LOCATION',\n",
        "    'UG_MINING_METHOD'\n",
        "]\n",
        "\n",
        "# Assuming 'target' is your DataFrame and 'encode_target' is your encoding function\n",
        "for column in columns_to_encode:\n",
        "    encode_target(column)"
      ],
      "metadata": {
        "id": "E37nFlZad4GP"
      },
      "execution_count": null,
      "outputs": []
    },
    {
      "cell_type": "code",
      "source": [
        "target['NO_INJURIES']=data['NO_INJURIES']"
      ],
      "metadata": {
        "id": "LHqyFgdde7hr"
      },
      "execution_count": null,
      "outputs": []
    },
    {
      "cell_type": "markdown",
      "source": [
        "### Model Training and Ensembling"
      ],
      "metadata": {
        "id": "TcxRLt_T99oS"
      }
    },
    {
      "cell_type": "code",
      "source": [
        "X_train, X_test, y_train, y_test = tts(df, target, test_size = 0.2, random_state=52)"
      ],
      "metadata": {
        "id": "IOq8Qqt0nuK-"
      },
      "execution_count": null,
      "outputs": []
    },
    {
      "cell_type": "code",
      "source": [
        "# Defining LSTM model\n",
        "num_samples, sequence_length = X_train.shape[0], X_train.shape[1]\n",
        "num_features = 1\n",
        "X_train = X_train.reshape(num_samples, sequence_length, num_features)\n",
        "\n",
        "# Initialize the LSTM model\n",
        "model_L = Sequential()\n",
        "\n",
        "# Add an LSTM layer\n",
        "lstm_units = 64  # Number of LSTM units/neurons\n",
        "model_L.add(LSTM(lstm_units, input_shape=(sequence_length, num_features)))\n",
        "\n",
        "# Add a dense output layer (change the activation function for classification tasks)\n",
        "model_L.add(Dense(1, activation='linear'))  # Linear activation for regression tasks\n",
        "\n",
        "# Compile the model\n",
        "optimizer = tf.keras.optimizers.Adam(learning_rate=0.001)  # Adjust the learning rate if needed\n",
        "model_L.compile(optimizer=optimizer, loss='mean_absolute_error')"
      ],
      "metadata": {
        "id": "adJYmprKnA2D"
      },
      "execution_count": null,
      "outputs": []
    },
    {
      "cell_type": "code",
      "source": [
        "# We are training a ensemble of Catboost, XGBoost and LGBM for the classification column\n",
        "model_x = XGBClassifier()\n",
        "model_c = CatBoostClassifier(verbose = False)\n",
        "model_l = LGBMClassifier()\n",
        "\n",
        "weights = {}\n",
        "\n",
        "models = {}\n",
        "\n",
        "for col in tqdm.tqdm(target.columns[7:9]):\n",
        "    try:\n",
        "        model_x.fit(X_train, y_train[col])\n",
        "        model_c.fit(X_train, y_train[col])\n",
        "        model_l.fit(X_train, y_train[col])\n",
        "    except:\n",
        "        model_L.fit(X_train, y_train, epochs=epochs, batch_size=batch_size, verbose=1, validation_split=0.2)\n",
        "\n",
        "\n",
        "    models[col] = (model_x, model_c, model_l, model_L)\n",
        "\n",
        "    rec = [recall_score(y_test[col], i.predict(X_test), average='micro') for i in models[col]]\n",
        "\n",
        "    weights[col] = [i/sum(rec) for i in rec]\n",
        "\n",
        "# We are training a ensemble of Catboost, XGBoost, LGBM and SVR for the Regression column\n",
        "model_x = XGBRegressor()\n",
        "model_c = CatBoostRegressor(verbose = False)\n",
        "model_l = LGBMRegressor()\n",
        "model_s = SVR()\n",
        "\n",
        "for col in target.columns[-1:]:\n",
        "    model_x.fit(X_train, y_train[col])\n",
        "    model_c.fit(X_train, y_train[col])\n",
        "    model_l.fit(X_train, y_train[col])\n",
        "    model_s.fit(X_train, y_train[col])\n",
        "\n",
        "    mae = (mean_absolute_error(y_test[col], model_x.predict(X_test)), mean_absolute_error(y_test[col], model_c.predict(X_test)), mean_absolute_error(y_test[col], model_l.predict(X_test)), mean_absolute_error(y_test[col], model_s.predict(X_test)))\n",
        "\n",
        "    weights[col] = [i/sum(mae) for i in mae]\n",
        "\n",
        "    models[col] = (model_x, model_c, model_l, model_s)"
      ],
      "metadata": {
        "id": "yPdDKcHXgt41",
        "colab": {
          "base_uri": "https://localhost:8080/"
        },
        "outputId": "7653dcc8-53c9-41a0-d86b-31b397902dee"
      },
      "execution_count": null,
      "outputs": [
        {
          "output_type": "stream",
          "name": "stderr",
          "text": [
            "100%|██████████| 2/2 [03:00<00:00, 90.44s/it]\n"
          ]
        }
      ]
    },
    {
      "cell_type": "code",
      "source": [
        "def model_ensemble(models: dict, weights: dict, test: pd.DataFrame, columns=\"all\"):\n",
        "    if columns == \"all\":\n",
        "        columns = [\n",
        "            \"ACCIDENT_TYPE\",\n",
        "            \"ACTIVITY\",\n",
        "            \"CLASSIFICATION\",\n",
        "            \"DEGREE_INJURY\",\n",
        "            \"IMMED_NOTIFY\",\n",
        "            \"INJURY_SOURCE\",\n",
        "            \"NATURE_INJURY\",\n",
        "            \"SUBUNIT\",\n",
        "            \"UG_LOCATION\",\n",
        "            \"UG_MINING_METHOD\",\n",
        "            \"NO_INJURIES\",\n",
        "        ]\n",
        "\n",
        "    pred = {}\n",
        "    ans = []\n",
        "    result = pd.DataFrame(columns = columns)\n",
        "    for col in columns:\n",
        "        try:\n",
        "            with open(col + \".json\", \"r\") as f:\n",
        "                df = json.load(f)\n",
        "\n",
        "            res = sum(\n",
        "                [weights[col][i] * models[col][i].predict_proba(test)[0] for i in range(3)]\n",
        "            )\n",
        "            pred[col] = dict(zip(df, res))\n",
        "            pred[col] = dict(\n",
        "                sorted(pred[col].items(), key=lambda item: item[1], reverse=True)\n",
        "            )\n",
        "            ans.append(max(pred[col], key=pred[col].get))\n",
        "        except:\n",
        "            pred[col] = sum([weights[col][i]*models[col][i].predict(test) for i in range(4)])[0]\n",
        "            ans.append(round(pred[col]))\n",
        "    result.loc[0] = ans\n",
        "\n",
        "\n",
        "\n",
        "    return result, pred\n"
      ],
      "metadata": {
        "id": "Uut4PQS5ibXd"
      },
      "execution_count": null,
      "outputs": []
    },
    {
      "cell_type": "code",
      "source": [
        "result, pred = model_ensemble(models, weights, test = X_test[2:3], columns=['SUBUNIT', 'NO_INJURIES'])\n",
        "result"
      ],
      "metadata": {
        "colab": {
          "base_uri": "https://localhost:8080/",
          "height": 81
        },
        "id": "YakR9RUmwSLg",
        "outputId": "f0844b77-d078-431e-da48-bb9fee2fd7fd"
      },
      "execution_count": null,
      "outputs": [
        {
          "output_type": "execute_result",
          "data": {
            "text/plain": [
              "  SUBUNIT  NO_INJURIES\n",
              "0   AUGER            1"
            ],
            "text/html": [
              "\n",
              "\n",
              "  <div id=\"df-20c47534-456b-4299-b3c1-7f291e8db9d7\">\n",
              "    <div class=\"colab-df-container\">\n",
              "      <div>\n",
              "<style scoped>\n",
              "    .dataframe tbody tr th:only-of-type {\n",
              "        vertical-align: middle;\n",
              "    }\n",
              "\n",
              "    .dataframe tbody tr th {\n",
              "        vertical-align: top;\n",
              "    }\n",
              "\n",
              "    .dataframe thead th {\n",
              "        text-align: right;\n",
              "    }\n",
              "</style>\n",
              "<table border=\"1\" class=\"dataframe\">\n",
              "  <thead>\n",
              "    <tr style=\"text-align: right;\">\n",
              "      <th></th>\n",
              "      <th>SUBUNIT</th>\n",
              "      <th>NO_INJURIES</th>\n",
              "    </tr>\n",
              "  </thead>\n",
              "  <tbody>\n",
              "    <tr>\n",
              "      <th>0</th>\n",
              "      <td>AUGER</td>\n",
              "      <td>1</td>\n",
              "    </tr>\n",
              "  </tbody>\n",
              "</table>\n",
              "</div>\n",
              "      <button class=\"colab-df-convert\" onclick=\"convertToInteractive('df-20c47534-456b-4299-b3c1-7f291e8db9d7')\"\n",
              "              title=\"Convert this dataframe to an interactive table.\"\n",
              "              style=\"display:none;\">\n",
              "\n",
              "  <svg xmlns=\"http://www.w3.org/2000/svg\" height=\"24px\"viewBox=\"0 0 24 24\"\n",
              "       width=\"24px\">\n",
              "    <path d=\"M0 0h24v24H0V0z\" fill=\"none\"/>\n",
              "    <path d=\"M18.56 5.44l.94 2.06.94-2.06 2.06-.94-2.06-.94-.94-2.06-.94 2.06-2.06.94zm-11 1L8.5 8.5l.94-2.06 2.06-.94-2.06-.94L8.5 2.5l-.94 2.06-2.06.94zm10 10l.94 2.06.94-2.06 2.06-.94-2.06-.94-.94-2.06-.94 2.06-2.06.94z\"/><path d=\"M17.41 7.96l-1.37-1.37c-.4-.4-.92-.59-1.43-.59-.52 0-1.04.2-1.43.59L10.3 9.45l-7.72 7.72c-.78.78-.78 2.05 0 2.83L4 21.41c.39.39.9.59 1.41.59.51 0 1.02-.2 1.41-.59l7.78-7.78 2.81-2.81c.8-.78.8-2.07 0-2.86zM5.41 20L4 18.59l7.72-7.72 1.47 1.35L5.41 20z\"/>\n",
              "  </svg>\n",
              "      </button>\n",
              "\n",
              "\n",
              "\n",
              "    <div id=\"df-46a386e0-07e1-4e89-ae40-8b38b0ee5b2b\">\n",
              "      <button class=\"colab-df-quickchart\" onclick=\"quickchart('df-46a386e0-07e1-4e89-ae40-8b38b0ee5b2b')\"\n",
              "              title=\"Suggest charts.\"\n",
              "              style=\"display:none;\">\n",
              "\n",
              "<svg xmlns=\"http://www.w3.org/2000/svg\" height=\"24px\"viewBox=\"0 0 24 24\"\n",
              "     width=\"24px\">\n",
              "    <g>\n",
              "        <path d=\"M19 3H5c-1.1 0-2 .9-2 2v14c0 1.1.9 2 2 2h14c1.1 0 2-.9 2-2V5c0-1.1-.9-2-2-2zM9 17H7v-7h2v7zm4 0h-2V7h2v10zm4 0h-2v-4h2v4z\"/>\n",
              "    </g>\n",
              "</svg>\n",
              "      </button>\n",
              "    </div>\n",
              "\n",
              "<style>\n",
              "  .colab-df-quickchart {\n",
              "    background-color: #E8F0FE;\n",
              "    border: none;\n",
              "    border-radius: 50%;\n",
              "    cursor: pointer;\n",
              "    display: none;\n",
              "    fill: #1967D2;\n",
              "    height: 32px;\n",
              "    padding: 0 0 0 0;\n",
              "    width: 32px;\n",
              "  }\n",
              "\n",
              "  .colab-df-quickchart:hover {\n",
              "    background-color: #E2EBFA;\n",
              "    box-shadow: 0px 1px 2px rgba(60, 64, 67, 0.3), 0px 1px 3px 1px rgba(60, 64, 67, 0.15);\n",
              "    fill: #174EA6;\n",
              "  }\n",
              "\n",
              "  [theme=dark] .colab-df-quickchart {\n",
              "    background-color: #3B4455;\n",
              "    fill: #D2E3FC;\n",
              "  }\n",
              "\n",
              "  [theme=dark] .colab-df-quickchart:hover {\n",
              "    background-color: #434B5C;\n",
              "    box-shadow: 0px 1px 3px 1px rgba(0, 0, 0, 0.15);\n",
              "    filter: drop-shadow(0px 1px 2px rgba(0, 0, 0, 0.3));\n",
              "    fill: #FFFFFF;\n",
              "  }\n",
              "</style>\n",
              "\n",
              "    <script>\n",
              "      async function quickchart(key) {\n",
              "        const containerElement = document.querySelector('#' + key);\n",
              "        const charts = await google.colab.kernel.invokeFunction(\n",
              "            'suggestCharts', [key], {});\n",
              "      }\n",
              "    </script>\n",
              "\n",
              "      <script>\n",
              "\n",
              "function displayQuickchartButton(domScope) {\n",
              "  let quickchartButtonEl =\n",
              "    domScope.querySelector('#df-46a386e0-07e1-4e89-ae40-8b38b0ee5b2b button.colab-df-quickchart');\n",
              "  quickchartButtonEl.style.display =\n",
              "    google.colab.kernel.accessAllowed ? 'block' : 'none';\n",
              "}\n",
              "\n",
              "        displayQuickchartButton(document);\n",
              "      </script>\n",
              "      <style>\n",
              "    .colab-df-container {\n",
              "      display:flex;\n",
              "      flex-wrap:wrap;\n",
              "      gap: 12px;\n",
              "    }\n",
              "\n",
              "    .colab-df-convert {\n",
              "      background-color: #E8F0FE;\n",
              "      border: none;\n",
              "      border-radius: 50%;\n",
              "      cursor: pointer;\n",
              "      display: none;\n",
              "      fill: #1967D2;\n",
              "      height: 32px;\n",
              "      padding: 0 0 0 0;\n",
              "      width: 32px;\n",
              "    }\n",
              "\n",
              "    .colab-df-convert:hover {\n",
              "      background-color: #E2EBFA;\n",
              "      box-shadow: 0px 1px 2px rgba(60, 64, 67, 0.3), 0px 1px 3px 1px rgba(60, 64, 67, 0.15);\n",
              "      fill: #174EA6;\n",
              "    }\n",
              "\n",
              "    [theme=dark] .colab-df-convert {\n",
              "      background-color: #3B4455;\n",
              "      fill: #D2E3FC;\n",
              "    }\n",
              "\n",
              "    [theme=dark] .colab-df-convert:hover {\n",
              "      background-color: #434B5C;\n",
              "      box-shadow: 0px 1px 3px 1px rgba(0, 0, 0, 0.15);\n",
              "      filter: drop-shadow(0px 1px 2px rgba(0, 0, 0, 0.3));\n",
              "      fill: #FFFFFF;\n",
              "    }\n",
              "  </style>\n",
              "\n",
              "      <script>\n",
              "        const buttonEl =\n",
              "          document.querySelector('#df-20c47534-456b-4299-b3c1-7f291e8db9d7 button.colab-df-convert');\n",
              "        buttonEl.style.display =\n",
              "          google.colab.kernel.accessAllowed ? 'block' : 'none';\n",
              "\n",
              "        async function convertToInteractive(key) {\n",
              "          const element = document.querySelector('#df-20c47534-456b-4299-b3c1-7f291e8db9d7');\n",
              "          const dataTable =\n",
              "            await google.colab.kernel.invokeFunction('convertToInteractive',\n",
              "                                                     [key], {});\n",
              "          if (!dataTable) return;\n",
              "\n",
              "          const docLinkHtml = 'Like what you see? Visit the ' +\n",
              "            '<a target=\"_blank\" href=https://colab.research.google.com/notebooks/data_table.ipynb>data table notebook</a>'\n",
              "            + ' to learn more about interactive tables.';\n",
              "          element.innerHTML = '';\n",
              "          dataTable['output_type'] = 'display_data';\n",
              "          await google.colab.output.renderOutput(dataTable, element);\n",
              "          const docLink = document.createElement('div');\n",
              "          docLink.innerHTML = docLinkHtml;\n",
              "          element.appendChild(docLink);\n",
              "        }\n",
              "      </script>\n",
              "    </div>\n",
              "  </div>\n"
            ]
          },
          "metadata": {},
          "execution_count": 38
        }
      ]
    },
    {
      "cell_type": "code",
      "source": [
        "def model_probability(pred):\n",
        "    columns = [\n",
        "            \"ACCIDENT_TYPE\",\n",
        "            \"ACTIVITY\",\n",
        "            \"CLASSIFICATION\",\n",
        "            \"DEGREE_INJURY\",\n",
        "            \"IMMED_NOTIFY\",\n",
        "            \"INJURY_SOURCE\",\n",
        "            \"NATURE_INJURY\",\n",
        "            \"SUBUNIT\",\n",
        "            \"UG_LOCATION\",\n",
        "            \"UG_MINING_METHOD\",\n",
        "            \"NO_INJURIES\",\n",
        "        ]\n",
        "    res = []\n",
        "    prob = []\n",
        "    for col in pred.keys():\n",
        "        if type(pred[col])==np.float64:\n",
        "            continue\n",
        "        res.append(col)\n",
        "        prob.append('Probability')\n",
        "        res.extend(sorted(pred[col], key=pred[col].get, reverse=True)[:3])\n",
        "        prob.extend(sorted(pred[col].values(), reverse = True)[:3])\n",
        "        combined = list(zip(res, prob))\n",
        "\n",
        "        # Create a DataFrame and transpose it\n",
        "        df = pd.DataFrame(combined[1:], columns = combined[0])\n",
        "\n",
        "        # # Optionally, set the first row as the column headers\n",
        "        # df.columns = df.iloc[0]\n",
        "        # df = df[1:]\n",
        "    print(\"\")\n",
        "    return df"
      ],
      "metadata": {
        "id": "8Yklyztgma9x"
      },
      "execution_count": null,
      "outputs": []
    },
    {
      "cell_type": "code",
      "source": [
        "model_probability(pred)"
      ],
      "metadata": {
        "colab": {
          "base_uri": "https://localhost:8080/",
          "height": 181
        },
        "id": "kCikBCiDnSXr",
        "outputId": "63b355d5-bf89-4442-ac6f-e1911eaded25"
      },
      "execution_count": null,
      "outputs": [
        {
          "output_type": "stream",
          "name": "stdout",
          "text": [
            "{'AUGER': 0.5431215204834772, 'DREDGE': 0.3080766821416011, 'CULM BANK/REFUSE PILE': 0.10033604842704219, 'UNDERGROUND': 0.022770695257057317, 'INDEPENDENT SHOPS OR YARDS': 0.01691243785994537, 'SURFACE AT UNDERGROUND': 0.00421295071028468, 'STRIP, QUARY, OPEN PIT': 0.003934195949378315, 'OFFICE WORKERS AT MINE SITE': 0.0004969560365143929, 'MILL OPERATION/PREPARATION PLANT': 0.00013851980243717295}\n"
          ]
        },
        {
          "output_type": "execute_result",
          "data": {
            "text/plain": [
              "                 SUBUNIT  Probability\n",
              "0                  AUGER     0.543122\n",
              "1                 DREDGE     0.308077\n",
              "2  CULM BANK/REFUSE PILE     0.100336"
            ],
            "text/html": [
              "\n",
              "\n",
              "  <div id=\"df-ccfb6342-95c9-4b3d-81f1-8d3485d3fcf4\">\n",
              "    <div class=\"colab-df-container\">\n",
              "      <div>\n",
              "<style scoped>\n",
              "    .dataframe tbody tr th:only-of-type {\n",
              "        vertical-align: middle;\n",
              "    }\n",
              "\n",
              "    .dataframe tbody tr th {\n",
              "        vertical-align: top;\n",
              "    }\n",
              "\n",
              "    .dataframe thead th {\n",
              "        text-align: right;\n",
              "    }\n",
              "</style>\n",
              "<table border=\"1\" class=\"dataframe\">\n",
              "  <thead>\n",
              "    <tr style=\"text-align: right;\">\n",
              "      <th></th>\n",
              "      <th>SUBUNIT</th>\n",
              "      <th>Probability</th>\n",
              "    </tr>\n",
              "  </thead>\n",
              "  <tbody>\n",
              "    <tr>\n",
              "      <th>0</th>\n",
              "      <td>AUGER</td>\n",
              "      <td>0.543122</td>\n",
              "    </tr>\n",
              "    <tr>\n",
              "      <th>1</th>\n",
              "      <td>DREDGE</td>\n",
              "      <td>0.308077</td>\n",
              "    </tr>\n",
              "    <tr>\n",
              "      <th>2</th>\n",
              "      <td>CULM BANK/REFUSE PILE</td>\n",
              "      <td>0.100336</td>\n",
              "    </tr>\n",
              "  </tbody>\n",
              "</table>\n",
              "</div>\n",
              "      <button class=\"colab-df-convert\" onclick=\"convertToInteractive('df-ccfb6342-95c9-4b3d-81f1-8d3485d3fcf4')\"\n",
              "              title=\"Convert this dataframe to an interactive table.\"\n",
              "              style=\"display:none;\">\n",
              "\n",
              "  <svg xmlns=\"http://www.w3.org/2000/svg\" height=\"24px\"viewBox=\"0 0 24 24\"\n",
              "       width=\"24px\">\n",
              "    <path d=\"M0 0h24v24H0V0z\" fill=\"none\"/>\n",
              "    <path d=\"M18.56 5.44l.94 2.06.94-2.06 2.06-.94-2.06-.94-.94-2.06-.94 2.06-2.06.94zm-11 1L8.5 8.5l.94-2.06 2.06-.94-2.06-.94L8.5 2.5l-.94 2.06-2.06.94zm10 10l.94 2.06.94-2.06 2.06-.94-2.06-.94-.94-2.06-.94 2.06-2.06.94z\"/><path d=\"M17.41 7.96l-1.37-1.37c-.4-.4-.92-.59-1.43-.59-.52 0-1.04.2-1.43.59L10.3 9.45l-7.72 7.72c-.78.78-.78 2.05 0 2.83L4 21.41c.39.39.9.59 1.41.59.51 0 1.02-.2 1.41-.59l7.78-7.78 2.81-2.81c.8-.78.8-2.07 0-2.86zM5.41 20L4 18.59l7.72-7.72 1.47 1.35L5.41 20z\"/>\n",
              "  </svg>\n",
              "      </button>\n",
              "\n",
              "\n",
              "\n",
              "    <div id=\"df-4188d0ac-7ba6-4398-9e82-3292408c9603\">\n",
              "      <button class=\"colab-df-quickchart\" onclick=\"quickchart('df-4188d0ac-7ba6-4398-9e82-3292408c9603')\"\n",
              "              title=\"Suggest charts.\"\n",
              "              style=\"display:none;\">\n",
              "\n",
              "<svg xmlns=\"http://www.w3.org/2000/svg\" height=\"24px\"viewBox=\"0 0 24 24\"\n",
              "     width=\"24px\">\n",
              "    <g>\n",
              "        <path d=\"M19 3H5c-1.1 0-2 .9-2 2v14c0 1.1.9 2 2 2h14c1.1 0 2-.9 2-2V5c0-1.1-.9-2-2-2zM9 17H7v-7h2v7zm4 0h-2V7h2v10zm4 0h-2v-4h2v4z\"/>\n",
              "    </g>\n",
              "</svg>\n",
              "      </button>\n",
              "    </div>\n",
              "\n",
              "<style>\n",
              "  .colab-df-quickchart {\n",
              "    background-color: #E8F0FE;\n",
              "    border: none;\n",
              "    border-radius: 50%;\n",
              "    cursor: pointer;\n",
              "    display: none;\n",
              "    fill: #1967D2;\n",
              "    height: 32px;\n",
              "    padding: 0 0 0 0;\n",
              "    width: 32px;\n",
              "  }\n",
              "\n",
              "  .colab-df-quickchart:hover {\n",
              "    background-color: #E2EBFA;\n",
              "    box-shadow: 0px 1px 2px rgba(60, 64, 67, 0.3), 0px 1px 3px 1px rgba(60, 64, 67, 0.15);\n",
              "    fill: #174EA6;\n",
              "  }\n",
              "\n",
              "  [theme=dark] .colab-df-quickchart {\n",
              "    background-color: #3B4455;\n",
              "    fill: #D2E3FC;\n",
              "  }\n",
              "\n",
              "  [theme=dark] .colab-df-quickchart:hover {\n",
              "    background-color: #434B5C;\n",
              "    box-shadow: 0px 1px 3px 1px rgba(0, 0, 0, 0.15);\n",
              "    filter: drop-shadow(0px 1px 2px rgba(0, 0, 0, 0.3));\n",
              "    fill: #FFFFFF;\n",
              "  }\n",
              "</style>\n",
              "\n",
              "    <script>\n",
              "      async function quickchart(key) {\n",
              "        const containerElement = document.querySelector('#' + key);\n",
              "        const charts = await google.colab.kernel.invokeFunction(\n",
              "            'suggestCharts', [key], {});\n",
              "      }\n",
              "    </script>\n",
              "\n",
              "      <script>\n",
              "\n",
              "function displayQuickchartButton(domScope) {\n",
              "  let quickchartButtonEl =\n",
              "    domScope.querySelector('#df-4188d0ac-7ba6-4398-9e82-3292408c9603 button.colab-df-quickchart');\n",
              "  quickchartButtonEl.style.display =\n",
              "    google.colab.kernel.accessAllowed ? 'block' : 'none';\n",
              "}\n",
              "\n",
              "        displayQuickchartButton(document);\n",
              "      </script>\n",
              "      <style>\n",
              "    .colab-df-container {\n",
              "      display:flex;\n",
              "      flex-wrap:wrap;\n",
              "      gap: 12px;\n",
              "    }\n",
              "\n",
              "    .colab-df-convert {\n",
              "      background-color: #E8F0FE;\n",
              "      border: none;\n",
              "      border-radius: 50%;\n",
              "      cursor: pointer;\n",
              "      display: none;\n",
              "      fill: #1967D2;\n",
              "      height: 32px;\n",
              "      padding: 0 0 0 0;\n",
              "      width: 32px;\n",
              "    }\n",
              "\n",
              "    .colab-df-convert:hover {\n",
              "      background-color: #E2EBFA;\n",
              "      box-shadow: 0px 1px 2px rgba(60, 64, 67, 0.3), 0px 1px 3px 1px rgba(60, 64, 67, 0.15);\n",
              "      fill: #174EA6;\n",
              "    }\n",
              "\n",
              "    [theme=dark] .colab-df-convert {\n",
              "      background-color: #3B4455;\n",
              "      fill: #D2E3FC;\n",
              "    }\n",
              "\n",
              "    [theme=dark] .colab-df-convert:hover {\n",
              "      background-color: #434B5C;\n",
              "      box-shadow: 0px 1px 3px 1px rgba(0, 0, 0, 0.15);\n",
              "      filter: drop-shadow(0px 1px 2px rgba(0, 0, 0, 0.3));\n",
              "      fill: #FFFFFF;\n",
              "    }\n",
              "  </style>\n",
              "\n",
              "      <script>\n",
              "        const buttonEl =\n",
              "          document.querySelector('#df-ccfb6342-95c9-4b3d-81f1-8d3485d3fcf4 button.colab-df-convert');\n",
              "        buttonEl.style.display =\n",
              "          google.colab.kernel.accessAllowed ? 'block' : 'none';\n",
              "\n",
              "        async function convertToInteractive(key) {\n",
              "          const element = document.querySelector('#df-ccfb6342-95c9-4b3d-81f1-8d3485d3fcf4');\n",
              "          const dataTable =\n",
              "            await google.colab.kernel.invokeFunction('convertToInteractive',\n",
              "                                                     [key], {});\n",
              "          if (!dataTable) return;\n",
              "\n",
              "          const docLinkHtml = 'Like what you see? Visit the ' +\n",
              "            '<a target=\"_blank\" href=https://colab.research.google.com/notebooks/data_table.ipynb>data table notebook</a>'\n",
              "            + ' to learn more about interactive tables.';\n",
              "          element.innerHTML = '';\n",
              "          dataTable['output_type'] = 'display_data';\n",
              "          await google.colab.output.renderOutput(dataTable, element);\n",
              "          const docLink = document.createElement('div');\n",
              "          docLink.innerHTML = docLinkHtml;\n",
              "          element.appendChild(docLink);\n",
              "        }\n",
              "      </script>\n",
              "    </div>\n",
              "  </div>\n"
            ]
          },
          "metadata": {},
          "execution_count": 73
        }
      ]
    },
    {
      "cell_type": "markdown",
      "source": [
        "## Part 02: Bussiness Value Assessment and Loss Mitigation"
      ],
      "metadata": {
        "id": "AmFc6AY95dYW"
      }
    },
    {
      "cell_type": "markdown",
      "source": [
        "### Step 01: Feature Engineering"
      ],
      "metadata": {
        "id": "KP5N67d-58Xr"
      }
    },
    {
      "cell_type": "markdown",
      "source": [
        "To predict the bussiness vvalue and loss of an accident we use the following features:\n",
        "\n",
        "\n",
        "*  ACCIDENT_DAY\n",
        "* ACCIDENT_MONTH\n",
        "* ACCIDENT_QTR\n",
        "* ACCIDENT_YEAR\n",
        "* ACCIDENT_TYPE\n",
        "* DOC_REF_ID\n",
        "* COAL_MINE\n",
        "* DDEGREE_INJURY_ID\n",
        "* DOCUMENT_ID\n",
        "* EQUIP_MFR_ID\n",
        "* EQUIP_MODEL\n",
        "* STATE\n",
        "* NOTIFY_ID\n",
        "* BODY_INJ_ID\n",
        "* TIME_TO_START_INV\n",
        "* JOB_EXP\n",
        "* MINE_EXP\n",
        "* MINE_NEW\n",
        "* NARRATIVE\n",
        "* NAT_OF_INJ\n",
        "* OCC_ID\n",
        "* SHIFT\n",
        "* TIME_IN_SHIFT\n",
        "* SUBUNIT_ID\n",
        "* TOT_EXP\n",
        "* UG_LOC_ID\n"
      ],
      "metadata": {
        "id": "7yYfG7yV6l18"
      }
    },
    {
      "cell_type": "code",
      "source": [
        "# We create a new DataFrame to store the data for training\n",
        "df = pd.DataFrame()"
      ],
      "metadata": {
        "id": "QddU0bY85c-n"
      },
      "execution_count": null,
      "outputs": []
    },
    {
      "cell_type": "code",
      "source": [
        "# We parse the Accident Date to store the day, month, qtr and year value\n",
        "df['ACCIDENT_DAY'] = pd.to_datetime(data['ACCIDENT_DT']).dt.dayofweek\n",
        "df['ACCIDENT_MONTH'] = pd.to_datetime(data['ACCIDENT_DT']).dt.month\n",
        "df['ACCIDENT_QTR'] = pd.to_datetime(data['ACCIDENT_DT']).dt.quarter\n",
        "df['ACCIDENT_YEAR'] = pd.to_datetime(data['ACCIDENT_DT']).dt.year"
      ],
      "metadata": {
        "id": "lJOfeEwY5MTM"
      },
      "execution_count": null,
      "outputs": []
    },
    {
      "cell_type": "code",
      "source": [
        "# We create a column to store whether the mine was coal (1) or metal (0)\n",
        "df['COAL_MINE'] = data['COAL_METAL_IND'].map({'C':1, 'M':0})"
      ],
      "metadata": {
        "id": "d5hxopzv7x-L"
      },
      "execution_count": null,
      "outputs": []
    },
    {
      "cell_type": "code",
      "source": [
        "encode('ACCIDENT_TYPE')"
      ],
      "metadata": {
        "id": "jfoPmkes72i8"
      },
      "execution_count": null,
      "outputs": []
    },
    {
      "cell_type": "code",
      "source": [
        "df['DOC_NO'] = data['DOCUMENT_NO']\n",
        "df['CLOSED_NO'] = data['CLOSED_DOC_NO']"
      ],
      "metadata": {
        "id": "mf7TiPRu8Mpk"
      },
      "execution_count": null,
      "outputs": []
    },
    {
      "cell_type": "code",
      "source": [
        "encode('DEGREE_INJURY')"
      ],
      "metadata": {
        "id": "SiX5m2oS8Tzg"
      },
      "execution_count": null,
      "outputs": []
    },
    {
      "cell_type": "code",
      "source": [
        "encode('EQUIP_MFR_NAME')\n",
        "encode('EQUIP_MODEL_NO')"
      ],
      "metadata": {
        "id": "WnMHG4HX8nts"
      },
      "execution_count": null,
      "outputs": []
    },
    {
      "cell_type": "code",
      "source": [
        "encode('IMMED_NOTIFY')\n",
        "encode('INJ_BODY_PART')"
      ],
      "metadata": {
        "id": "FFkcVJHp-j8y"
      },
      "execution_count": null,
      "outputs": []
    },
    {
      "cell_type": "code",
      "source": [
        "df['FIPS_STATE_CD'] = data['FIPS_STATE_CD']\n",
        "df['JOB_EXPER'] = data['JOB_EXPER']\n",
        "df['MINE_EXPER'] = data['MINE_EXPER']"
      ],
      "metadata": {
        "id": "TBCHGINf_fro"
      },
      "execution_count": null,
      "outputs": []
    },
    {
      "cell_type": "code",
      "source": [
        "encode('NATURE_INJURY')\n",
        "encode('OCCUPATION')"
      ],
      "metadata": {
        "id": "n_f0v1is_xjJ"
      },
      "execution_count": null,
      "outputs": []
    },
    {
      "cell_type": "code",
      "source": [
        "def map_time_to_bin(float_time):\n",
        "    if not (float_time<2359 and float_time>0.0): return ''\n",
        "    time_str = str(int(float_time)).zfill(4)\n",
        "    time_obj = pd.to_datetime(time_str, format='%H%M').time()\n",
        "    morning_start = pd.to_datetime('06:00', format='%H:%M').time()\n",
        "    morning_end = pd.to_datetime('12:00', format='%H:%M').time()\n",
        "    afternoon_start = pd.to_datetime('12:00', format='%H:%M').time()\n",
        "    afternoon_end = pd.to_datetime('18:00', format='%H:%M').time()\n",
        "    evening_start = pd.to_datetime('18:00', format='%H:%M').time()\n",
        "    evening_end = pd.to_datetime('22:00', format='%H:%M').time()\n",
        "\n",
        "    if morning_start <= time_obj < morning_end:\n",
        "        return 0\n",
        "    elif afternoon_start <= time_obj < afternoon_end:\n",
        "        return 1\n",
        "    elif evening_start <= time_obj < evening_end:\n",
        "        return 2\n",
        "    else:\n",
        "        return 3\n",
        "df['SHIFT'] = data['SHIFT_BEGIN_TIME'].apply(map_time_to_bin)\n",
        "encode('UG_LOCATION')"
      ],
      "metadata": {
        "id": "3Sz4M5sDH91R"
      },
      "execution_count": null,
      "outputs": []
    },
    {
      "cell_type": "code",
      "source": [
        "df['SHIFT'] = pd.to_numeric(df['SHIFT'], errors='coerce').astype('Int64')"
      ],
      "metadata": {
        "id": "mcbb3FYMNKs9"
      },
      "execution_count": null,
      "outputs": []
    },
    {
      "cell_type": "markdown",
      "source": [
        "### Targets"
      ],
      "metadata": {
        "id": "abw5AsWFLoKJ"
      }
    },
    {
      "cell_type": "code",
      "source": [
        "target = pd.DataFrame()\n",
        "target = data[['NO_INJURIES', \"DAYS_LOST\", \"DAYS_RESTRICT\", \"SCHEDULE_CHARGE\"]]\n",
        "target[\"TIME_TO_RETURN_TO_WORK\"] = df['DAYS_TO_RETURN'] = (pd.to_datetime(data['RETURN_TO_WORK_DT'])-pd.to_datetime(data['ACCIDENT_DT'])).dt.days\n",
        "encode_target(\"CLASSIFICATION\")\n",
        "encode_target(\"ACTIVITY\")\n",
        "encode_target(\"MINING_EQUIP\")\n",
        "encode_target(\"UG_MINING_METHOD\")\n",
        "encode_target(\"INJURY_SOURCE\")"
      ],
      "metadata": {
        "id": "WS_JX7Y8KELs",
        "colab": {
          "base_uri": "https://localhost:8080/"
        },
        "outputId": "8fb504b7-ef35-40f1-8d54-738177dfee2d"
      },
      "execution_count": null,
      "outputs": [
        {
          "output_type": "stream",
          "name": "stderr",
          "text": [
            "<ipython-input-53-f62b5488b01e>:3: SettingWithCopyWarning: \n",
            "A value is trying to be set on a copy of a slice from a DataFrame.\n",
            "Try using .loc[row_indexer,col_indexer] = value instead\n",
            "\n",
            "See the caveats in the documentation: https://pandas.pydata.org/pandas-docs/stable/user_guide/indexing.html#returning-a-view-versus-a-copy\n",
            "  target[\"TIME_TO_RETURN_TO_WORK\"] = df['DAYS_TO_RETURN'] = (pd.to_datetime(data['RETURN_TO_WORK_DT'])-pd.to_datetime(data['ACCIDENT_DT'])).dt.days\n",
            "<ipython-input-18-e0d1288bf906>:3: SettingWithCopyWarning: \n",
            "A value is trying to be set on a copy of a slice from a DataFrame.\n",
            "Try using .loc[row_indexer,col_indexer] = value instead\n",
            "\n",
            "See the caveats in the documentation: https://pandas.pydata.org/pandas-docs/stable/user_guide/indexing.html#returning-a-view-versus-a-copy\n",
            "  target[col] = le.fit_transform(data[col])\n",
            "<ipython-input-18-e0d1288bf906>:3: SettingWithCopyWarning: \n",
            "A value is trying to be set on a copy of a slice from a DataFrame.\n",
            "Try using .loc[row_indexer,col_indexer] = value instead\n",
            "\n",
            "See the caveats in the documentation: https://pandas.pydata.org/pandas-docs/stable/user_guide/indexing.html#returning-a-view-versus-a-copy\n",
            "  target[col] = le.fit_transform(data[col])\n",
            "<ipython-input-18-e0d1288bf906>:3: SettingWithCopyWarning: \n",
            "A value is trying to be set on a copy of a slice from a DataFrame.\n",
            "Try using .loc[row_indexer,col_indexer] = value instead\n",
            "\n",
            "See the caveats in the documentation: https://pandas.pydata.org/pandas-docs/stable/user_guide/indexing.html#returning-a-view-versus-a-copy\n",
            "  target[col] = le.fit_transform(data[col])\n",
            "<ipython-input-18-e0d1288bf906>:3: SettingWithCopyWarning: \n",
            "A value is trying to be set on a copy of a slice from a DataFrame.\n",
            "Try using .loc[row_indexer,col_indexer] = value instead\n",
            "\n",
            "See the caveats in the documentation: https://pandas.pydata.org/pandas-docs/stable/user_guide/indexing.html#returning-a-view-versus-a-copy\n",
            "  target[col] = le.fit_transform(data[col])\n",
            "<ipython-input-18-e0d1288bf906>:3: SettingWithCopyWarning: \n",
            "A value is trying to be set on a copy of a slice from a DataFrame.\n",
            "Try using .loc[row_indexer,col_indexer] = value instead\n",
            "\n",
            "See the caveats in the documentation: https://pandas.pydata.org/pandas-docs/stable/user_guide/indexing.html#returning-a-view-versus-a-copy\n",
            "  target[col] = le.fit_transform(data[col])\n"
          ]
        }
      ]
    },
    {
      "cell_type": "code",
      "source": [
        "target"
      ],
      "metadata": {
        "colab": {
          "base_uri": "https://localhost:8080/",
          "height": 487
        },
        "id": "_pPKk04ZLGfW",
        "outputId": "c9251d09-87bf-4fe4-b424-4441d99db9d0"
      },
      "execution_count": null,
      "outputs": [
        {
          "output_type": "execute_result",
          "data": {
            "text/plain": [
              "       NO_INJURIES  DAYS_LOST  DAYS_RESTRICT  SCHEDULE_CHARGE  \\\n",
              "0                1        0.0            0.0              0.0   \n",
              "1                1       11.0            0.0              0.0   \n",
              "2                1        1.0            0.0              0.0   \n",
              "3                1        0.0            0.0              0.0   \n",
              "4                1        9.0            0.0              0.0   \n",
              "...            ...        ...            ...              ...   \n",
              "36011            1        0.0            0.0           6000.0   \n",
              "36012            1        0.0            0.0              0.0   \n",
              "36013            1        0.0            0.0           6000.0   \n",
              "36014            1       32.0            0.0              0.0   \n",
              "36015            1        0.0            0.0              0.0   \n",
              "\n",
              "       TIME_TO_RETURN_TO_WORK  CLASSIFICATION  ACTIVITY  MINING_EQUIP  \\\n",
              "0                         1.0               5        41            41   \n",
              "1                        14.0               5        75            41   \n",
              "2                         2.0               5        41            41   \n",
              "3                         NaN               5        54            14   \n",
              "4                        16.0               5        41            41   \n",
              "...                       ...             ...       ...           ...   \n",
              "36011                     NaN               8        47            41   \n",
              "36012                     0.0               8        54            41   \n",
              "36013                     NaN               8        12            41   \n",
              "36014                    40.0               8        41            41   \n",
              "36015                     NaN               8        86            41   \n",
              "\n",
              "       UG_MINING_METHOD  INJURY_SOURCE  \n",
              "0                     5             23  \n",
              "1                     1              1  \n",
              "2                     5             69  \n",
              "3                     5             69  \n",
              "4                     4             69  \n",
              "...                 ...            ...  \n",
              "36011                 1             75  \n",
              "36012                 5             91  \n",
              "36013                 5             75  \n",
              "36014                 4              3  \n",
              "36015                 5             75  \n",
              "\n",
              "[36016 rows x 10 columns]"
            ],
            "text/html": [
              "\n",
              "\n",
              "  <div id=\"df-d0e5d45a-66b7-4401-9dd0-37267446887e\">\n",
              "    <div class=\"colab-df-container\">\n",
              "      <div>\n",
              "<style scoped>\n",
              "    .dataframe tbody tr th:only-of-type {\n",
              "        vertical-align: middle;\n",
              "    }\n",
              "\n",
              "    .dataframe tbody tr th {\n",
              "        vertical-align: top;\n",
              "    }\n",
              "\n",
              "    .dataframe thead th {\n",
              "        text-align: right;\n",
              "    }\n",
              "</style>\n",
              "<table border=\"1\" class=\"dataframe\">\n",
              "  <thead>\n",
              "    <tr style=\"text-align: right;\">\n",
              "      <th></th>\n",
              "      <th>NO_INJURIES</th>\n",
              "      <th>DAYS_LOST</th>\n",
              "      <th>DAYS_RESTRICT</th>\n",
              "      <th>SCHEDULE_CHARGE</th>\n",
              "      <th>TIME_TO_RETURN_TO_WORK</th>\n",
              "      <th>CLASSIFICATION</th>\n",
              "      <th>ACTIVITY</th>\n",
              "      <th>MINING_EQUIP</th>\n",
              "      <th>UG_MINING_METHOD</th>\n",
              "      <th>INJURY_SOURCE</th>\n",
              "    </tr>\n",
              "  </thead>\n",
              "  <tbody>\n",
              "    <tr>\n",
              "      <th>0</th>\n",
              "      <td>1</td>\n",
              "      <td>0.0</td>\n",
              "      <td>0.0</td>\n",
              "      <td>0.0</td>\n",
              "      <td>1.0</td>\n",
              "      <td>5</td>\n",
              "      <td>41</td>\n",
              "      <td>41</td>\n",
              "      <td>5</td>\n",
              "      <td>23</td>\n",
              "    </tr>\n",
              "    <tr>\n",
              "      <th>1</th>\n",
              "      <td>1</td>\n",
              "      <td>11.0</td>\n",
              "      <td>0.0</td>\n",
              "      <td>0.0</td>\n",
              "      <td>14.0</td>\n",
              "      <td>5</td>\n",
              "      <td>75</td>\n",
              "      <td>41</td>\n",
              "      <td>1</td>\n",
              "      <td>1</td>\n",
              "    </tr>\n",
              "    <tr>\n",
              "      <th>2</th>\n",
              "      <td>1</td>\n",
              "      <td>1.0</td>\n",
              "      <td>0.0</td>\n",
              "      <td>0.0</td>\n",
              "      <td>2.0</td>\n",
              "      <td>5</td>\n",
              "      <td>41</td>\n",
              "      <td>41</td>\n",
              "      <td>5</td>\n",
              "      <td>69</td>\n",
              "    </tr>\n",
              "    <tr>\n",
              "      <th>3</th>\n",
              "      <td>1</td>\n",
              "      <td>0.0</td>\n",
              "      <td>0.0</td>\n",
              "      <td>0.0</td>\n",
              "      <td>NaN</td>\n",
              "      <td>5</td>\n",
              "      <td>54</td>\n",
              "      <td>14</td>\n",
              "      <td>5</td>\n",
              "      <td>69</td>\n",
              "    </tr>\n",
              "    <tr>\n",
              "      <th>4</th>\n",
              "      <td>1</td>\n",
              "      <td>9.0</td>\n",
              "      <td>0.0</td>\n",
              "      <td>0.0</td>\n",
              "      <td>16.0</td>\n",
              "      <td>5</td>\n",
              "      <td>41</td>\n",
              "      <td>41</td>\n",
              "      <td>4</td>\n",
              "      <td>69</td>\n",
              "    </tr>\n",
              "    <tr>\n",
              "      <th>...</th>\n",
              "      <td>...</td>\n",
              "      <td>...</td>\n",
              "      <td>...</td>\n",
              "      <td>...</td>\n",
              "      <td>...</td>\n",
              "      <td>...</td>\n",
              "      <td>...</td>\n",
              "      <td>...</td>\n",
              "      <td>...</td>\n",
              "      <td>...</td>\n",
              "    </tr>\n",
              "    <tr>\n",
              "      <th>36011</th>\n",
              "      <td>1</td>\n",
              "      <td>0.0</td>\n",
              "      <td>0.0</td>\n",
              "      <td>6000.0</td>\n",
              "      <td>NaN</td>\n",
              "      <td>8</td>\n",
              "      <td>47</td>\n",
              "      <td>41</td>\n",
              "      <td>1</td>\n",
              "      <td>75</td>\n",
              "    </tr>\n",
              "    <tr>\n",
              "      <th>36012</th>\n",
              "      <td>1</td>\n",
              "      <td>0.0</td>\n",
              "      <td>0.0</td>\n",
              "      <td>0.0</td>\n",
              "      <td>0.0</td>\n",
              "      <td>8</td>\n",
              "      <td>54</td>\n",
              "      <td>41</td>\n",
              "      <td>5</td>\n",
              "      <td>91</td>\n",
              "    </tr>\n",
              "    <tr>\n",
              "      <th>36013</th>\n",
              "      <td>1</td>\n",
              "      <td>0.0</td>\n",
              "      <td>0.0</td>\n",
              "      <td>6000.0</td>\n",
              "      <td>NaN</td>\n",
              "      <td>8</td>\n",
              "      <td>12</td>\n",
              "      <td>41</td>\n",
              "      <td>5</td>\n",
              "      <td>75</td>\n",
              "    </tr>\n",
              "    <tr>\n",
              "      <th>36014</th>\n",
              "      <td>1</td>\n",
              "      <td>32.0</td>\n",
              "      <td>0.0</td>\n",
              "      <td>0.0</td>\n",
              "      <td>40.0</td>\n",
              "      <td>8</td>\n",
              "      <td>41</td>\n",
              "      <td>41</td>\n",
              "      <td>4</td>\n",
              "      <td>3</td>\n",
              "    </tr>\n",
              "    <tr>\n",
              "      <th>36015</th>\n",
              "      <td>1</td>\n",
              "      <td>0.0</td>\n",
              "      <td>0.0</td>\n",
              "      <td>0.0</td>\n",
              "      <td>NaN</td>\n",
              "      <td>8</td>\n",
              "      <td>86</td>\n",
              "      <td>41</td>\n",
              "      <td>5</td>\n",
              "      <td>75</td>\n",
              "    </tr>\n",
              "  </tbody>\n",
              "</table>\n",
              "<p>36016 rows × 10 columns</p>\n",
              "</div>\n",
              "      <button class=\"colab-df-convert\" onclick=\"convertToInteractive('df-d0e5d45a-66b7-4401-9dd0-37267446887e')\"\n",
              "              title=\"Convert this dataframe to an interactive table.\"\n",
              "              style=\"display:none;\">\n",
              "\n",
              "  <svg xmlns=\"http://www.w3.org/2000/svg\" height=\"24px\"viewBox=\"0 0 24 24\"\n",
              "       width=\"24px\">\n",
              "    <path d=\"M0 0h24v24H0V0z\" fill=\"none\"/>\n",
              "    <path d=\"M18.56 5.44l.94 2.06.94-2.06 2.06-.94-2.06-.94-.94-2.06-.94 2.06-2.06.94zm-11 1L8.5 8.5l.94-2.06 2.06-.94-2.06-.94L8.5 2.5l-.94 2.06-2.06.94zm10 10l.94 2.06.94-2.06 2.06-.94-2.06-.94-.94-2.06-.94 2.06-2.06.94z\"/><path d=\"M17.41 7.96l-1.37-1.37c-.4-.4-.92-.59-1.43-.59-.52 0-1.04.2-1.43.59L10.3 9.45l-7.72 7.72c-.78.78-.78 2.05 0 2.83L4 21.41c.39.39.9.59 1.41.59.51 0 1.02-.2 1.41-.59l7.78-7.78 2.81-2.81c.8-.78.8-2.07 0-2.86zM5.41 20L4 18.59l7.72-7.72 1.47 1.35L5.41 20z\"/>\n",
              "  </svg>\n",
              "      </button>\n",
              "\n",
              "\n",
              "\n",
              "    <div id=\"df-3220210b-8938-4153-8ac2-546321814d28\">\n",
              "      <button class=\"colab-df-quickchart\" onclick=\"quickchart('df-3220210b-8938-4153-8ac2-546321814d28')\"\n",
              "              title=\"Suggest charts.\"\n",
              "              style=\"display:none;\">\n",
              "\n",
              "<svg xmlns=\"http://www.w3.org/2000/svg\" height=\"24px\"viewBox=\"0 0 24 24\"\n",
              "     width=\"24px\">\n",
              "    <g>\n",
              "        <path d=\"M19 3H5c-1.1 0-2 .9-2 2v14c0 1.1.9 2 2 2h14c1.1 0 2-.9 2-2V5c0-1.1-.9-2-2-2zM9 17H7v-7h2v7zm4 0h-2V7h2v10zm4 0h-2v-4h2v4z\"/>\n",
              "    </g>\n",
              "</svg>\n",
              "      </button>\n",
              "    </div>\n",
              "\n",
              "<style>\n",
              "  .colab-df-quickchart {\n",
              "    background-color: #E8F0FE;\n",
              "    border: none;\n",
              "    border-radius: 50%;\n",
              "    cursor: pointer;\n",
              "    display: none;\n",
              "    fill: #1967D2;\n",
              "    height: 32px;\n",
              "    padding: 0 0 0 0;\n",
              "    width: 32px;\n",
              "  }\n",
              "\n",
              "  .colab-df-quickchart:hover {\n",
              "    background-color: #E2EBFA;\n",
              "    box-shadow: 0px 1px 2px rgba(60, 64, 67, 0.3), 0px 1px 3px 1px rgba(60, 64, 67, 0.15);\n",
              "    fill: #174EA6;\n",
              "  }\n",
              "\n",
              "  [theme=dark] .colab-df-quickchart {\n",
              "    background-color: #3B4455;\n",
              "    fill: #D2E3FC;\n",
              "  }\n",
              "\n",
              "  [theme=dark] .colab-df-quickchart:hover {\n",
              "    background-color: #434B5C;\n",
              "    box-shadow: 0px 1px 3px 1px rgba(0, 0, 0, 0.15);\n",
              "    filter: drop-shadow(0px 1px 2px rgba(0, 0, 0, 0.3));\n",
              "    fill: #FFFFFF;\n",
              "  }\n",
              "</style>\n",
              "\n",
              "    <script>\n",
              "      async function quickchart(key) {\n",
              "        const containerElement = document.querySelector('#' + key);\n",
              "        const charts = await google.colab.kernel.invokeFunction(\n",
              "            'suggestCharts', [key], {});\n",
              "      }\n",
              "    </script>\n",
              "\n",
              "      <script>\n",
              "\n",
              "function displayQuickchartButton(domScope) {\n",
              "  let quickchartButtonEl =\n",
              "    domScope.querySelector('#df-3220210b-8938-4153-8ac2-546321814d28 button.colab-df-quickchart');\n",
              "  quickchartButtonEl.style.display =\n",
              "    google.colab.kernel.accessAllowed ? 'block' : 'none';\n",
              "}\n",
              "\n",
              "        displayQuickchartButton(document);\n",
              "      </script>\n",
              "      <style>\n",
              "    .colab-df-container {\n",
              "      display:flex;\n",
              "      flex-wrap:wrap;\n",
              "      gap: 12px;\n",
              "    }\n",
              "\n",
              "    .colab-df-convert {\n",
              "      background-color: #E8F0FE;\n",
              "      border: none;\n",
              "      border-radius: 50%;\n",
              "      cursor: pointer;\n",
              "      display: none;\n",
              "      fill: #1967D2;\n",
              "      height: 32px;\n",
              "      padding: 0 0 0 0;\n",
              "      width: 32px;\n",
              "    }\n",
              "\n",
              "    .colab-df-convert:hover {\n",
              "      background-color: #E2EBFA;\n",
              "      box-shadow: 0px 1px 2px rgba(60, 64, 67, 0.3), 0px 1px 3px 1px rgba(60, 64, 67, 0.15);\n",
              "      fill: #174EA6;\n",
              "    }\n",
              "\n",
              "    [theme=dark] .colab-df-convert {\n",
              "      background-color: #3B4455;\n",
              "      fill: #D2E3FC;\n",
              "    }\n",
              "\n",
              "    [theme=dark] .colab-df-convert:hover {\n",
              "      background-color: #434B5C;\n",
              "      box-shadow: 0px 1px 3px 1px rgba(0, 0, 0, 0.15);\n",
              "      filter: drop-shadow(0px 1px 2px rgba(0, 0, 0, 0.3));\n",
              "      fill: #FFFFFF;\n",
              "    }\n",
              "  </style>\n",
              "\n",
              "      <script>\n",
              "        const buttonEl =\n",
              "          document.querySelector('#df-d0e5d45a-66b7-4401-9dd0-37267446887e button.colab-df-convert');\n",
              "        buttonEl.style.display =\n",
              "          google.colab.kernel.accessAllowed ? 'block' : 'none';\n",
              "\n",
              "        async function convertToInteractive(key) {\n",
              "          const element = document.querySelector('#df-d0e5d45a-66b7-4401-9dd0-37267446887e');\n",
              "          const dataTable =\n",
              "            await google.colab.kernel.invokeFunction('convertToInteractive',\n",
              "                                                     [key], {});\n",
              "          if (!dataTable) return;\n",
              "\n",
              "          const docLinkHtml = 'Like what you see? Visit the ' +\n",
              "            '<a target=\"_blank\" href=https://colab.research.google.com/notebooks/data_table.ipynb>data table notebook</a>'\n",
              "            + ' to learn more about interactive tables.';\n",
              "          element.innerHTML = '';\n",
              "          dataTable['output_type'] = 'display_data';\n",
              "          await google.colab.output.renderOutput(dataTable, element);\n",
              "          const docLink = document.createElement('div');\n",
              "          docLink.innerHTML = docLinkHtml;\n",
              "          element.appendChild(docLink);\n",
              "        }\n",
              "      </script>\n",
              "    </div>\n",
              "  </div>\n"
            ]
          },
          "metadata": {},
          "execution_count": 54
        }
      ]
    },
    {
      "cell_type": "markdown",
      "source": [
        "### Data Cleaning and Imputation"
      ],
      "metadata": {
        "id": "YCglX7AhMoYd"
      }
    },
    {
      "cell_type": "markdown",
      "source": [
        "Now we tackle missing values by using the KNNImputer to fill them in"
      ],
      "metadata": {
        "id": "6U0n80myMuIU"
      }
    },
    {
      "cell_type": "code",
      "source": [
        "# Checking the data type of each column\n",
        "df.info()"
      ],
      "metadata": {
        "colab": {
          "base_uri": "https://localhost:8080/"
        },
        "id": "SAVTx349M3_v",
        "outputId": "a757f6a6-a688-4852-a768-c4765624d87f"
      },
      "execution_count": null,
      "outputs": [
        {
          "output_type": "stream",
          "name": "stdout",
          "text": [
            "<class 'pandas.core.frame.DataFrame'>\n",
            "RangeIndex: 36016 entries, 0 to 36015\n",
            "Data columns (total 21 columns):\n",
            " #   Column          Non-Null Count  Dtype  \n",
            "---  ------          --------------  -----  \n",
            " 0   ACCIDENT_DAY    36016 non-null  int64  \n",
            " 1   ACCIDENT_MONTH  36016 non-null  int64  \n",
            " 2   ACCIDENT_QTR    36016 non-null  int64  \n",
            " 3   ACCIDENT_YEAR   36016 non-null  int64  \n",
            " 4   COAL_MINE       36016 non-null  int64  \n",
            " 5   ACCIDENT_TYPE   36016 non-null  int64  \n",
            " 6   DOC_NO          36016 non-null  int64  \n",
            " 7   CLOSED_NO       17886 non-null  float64\n",
            " 8   DEGREE_INJURY   36016 non-null  int64  \n",
            " 9   EQUIP_MFR_NAME  36016 non-null  int64  \n",
            " 10  EQUIP_MODEL_NO  36016 non-null  int64  \n",
            " 11  IMMED_NOTIFY    36016 non-null  int64  \n",
            " 12  INJ_BODY_PART   36016 non-null  int64  \n",
            " 13  FIPS_STATE_CD   36016 non-null  int64  \n",
            " 14  JOB_EXPER       33817 non-null  float64\n",
            " 15  MINE_EXPER      33703 non-null  float64\n",
            " 16  NATURE_INJURY   36016 non-null  int64  \n",
            " 17  OCCUPATION      36016 non-null  int64  \n",
            " 18  SHIFT           33822 non-null  Int64  \n",
            " 19  UG_LOCATION     36016 non-null  int64  \n",
            " 20  DAYS_TO_RETURN  33036 non-null  float64\n",
            "dtypes: Int64(1), float64(4), int64(16)\n",
            "memory usage: 5.8 MB\n"
          ]
        }
      ]
    },
    {
      "cell_type": "code",
      "source": [
        "# Initializing the KNNImputer and fitting it into our data\n",
        "imputer = KNNImputer(n_neighbors=5)\n",
        "df = pd.DataFrame(imputer.fit_transform(df), columns=df.columns)"
      ],
      "metadata": {
        "id": "n9yuAhffMuIU"
      },
      "execution_count": null,
      "outputs": []
    },
    {
      "cell_type": "code",
      "source": [
        "# We verify whether any missing value is still present in df\n",
        "df.isna().sum()"
      ],
      "metadata": {
        "colab": {
          "base_uri": "https://localhost:8080/"
        },
        "outputId": "6dacff8d-5a40-4eb3-fe9a-1aef805a8032",
        "id": "K9b6PV2NMuIV"
      },
      "execution_count": null,
      "outputs": [
        {
          "output_type": "execute_result",
          "data": {
            "text/plain": [
              "ACCIDENT_DAY      0\n",
              "ACCIDENT_MONTH    0\n",
              "ACCIDENT_QTR      0\n",
              "ACCIDENT_YEAR     0\n",
              "COAL_MINE         0\n",
              "ACCIDENT_TYPE     0\n",
              "DOC_NO            0\n",
              "CLOSED_NO         0\n",
              "DEGREE_INJURY     0\n",
              "EQUIP_MFR_NAME    0\n",
              "EQUIP_MODEL_NO    0\n",
              "IMMED_NOTIFY      0\n",
              "INJ_BODY_PART     0\n",
              "FIPS_STATE_CD     0\n",
              "JOB_EXPER         0\n",
              "MINE_EXPER        0\n",
              "NATURE_INJURY     0\n",
              "OCCUPATION        0\n",
              "SHIFT             0\n",
              "UG_LOCATION       0\n",
              "DAYS_TO_RETURN    0\n",
              "dtype: int64"
            ]
          },
          "metadata": {},
          "execution_count": 57
        }
      ]
    },
    {
      "cell_type": "code",
      "source": [
        "target.info()"
      ],
      "metadata": {
        "colab": {
          "base_uri": "https://localhost:8080/"
        },
        "id": "MUDkE4YCNrnN",
        "outputId": "c55e9e4e-a874-47b4-c190-54888e1cf809"
      },
      "execution_count": null,
      "outputs": [
        {
          "output_type": "stream",
          "name": "stdout",
          "text": [
            "<class 'pandas.core.frame.DataFrame'>\n",
            "RangeIndex: 36016 entries, 0 to 36015\n",
            "Data columns (total 10 columns):\n",
            " #   Column                  Non-Null Count  Dtype  \n",
            "---  ------                  --------------  -----  \n",
            " 0   NO_INJURIES             36016 non-null  int64  \n",
            " 1   DAYS_LOST               31796 non-null  float64\n",
            " 2   DAYS_RESTRICT           26038 non-null  float64\n",
            " 3   SCHEDULE_CHARGE         26012 non-null  float64\n",
            " 4   TIME_TO_RETURN_TO_WORK  33036 non-null  float64\n",
            " 5   CLASSIFICATION          36016 non-null  int64  \n",
            " 6   ACTIVITY                36016 non-null  int64  \n",
            " 7   MINING_EQUIP            36016 non-null  int64  \n",
            " 8   UG_MINING_METHOD        36016 non-null  int64  \n",
            " 9   INJURY_SOURCE           36016 non-null  int64  \n",
            "dtypes: float64(4), int64(6)\n",
            "memory usage: 2.7 MB\n"
          ]
        }
      ]
    },
    {
      "cell_type": "code",
      "source": [
        "# Initializing the KNNImputer and fitting it into our data\n",
        "imputer = KNNImputer(n_neighbors=5)\n",
        "target = pd.DataFrame(imputer.fit_transform(target), columns=target.columns)"
      ],
      "metadata": {
        "id": "U74R9kF2Nmwr"
      },
      "execution_count": null,
      "outputs": []
    },
    {
      "cell_type": "markdown",
      "source": [
        "### Treating the text feature"
      ],
      "metadata": {
        "id": "DYnndsxWOax9"
      }
    },
    {
      "cell_type": "code",
      "source": [
        "text = pd.DataFrame()"
      ],
      "metadata": {
        "id": "pjfghNcOMyXg"
      },
      "execution_count": null,
      "outputs": []
    },
    {
      "cell_type": "code",
      "source": [
        "# We discard the stop words form the text data\n",
        "nltk.download('stopwords')\n",
        "\n",
        "# Preprocess the narratives and remove stop words\n",
        "def preprocess_text(text):\n",
        "    custom_filters = [strip_punctuation]\n",
        "    words = preprocess_string(text, custom_filters)\n",
        "    stop_words = set(stopwords.words('english'))\n",
        "    words_without_stopwords = [word for word in words if word.lower() not in stop_words]\n",
        "    return words_without_stopwords\n",
        "\n",
        "text['NARRATIVE'] = data['NARRATIVE'].apply(preprocess_text)"
      ],
      "metadata": {
        "colab": {
          "base_uri": "https://localhost:8080/"
        },
        "id": "yGzKK2yYOn4R",
        "outputId": "ac651a87-5d50-4d76-8ba2-eef626d91e19"
      },
      "execution_count": null,
      "outputs": [
        {
          "output_type": "stream",
          "name": "stderr",
          "text": [
            "[nltk_data] Downloading package stopwords to /root/nltk_data...\n",
            "[nltk_data]   Unzipping corpora/stopwords.zip.\n"
          ]
        }
      ]
    },
    {
      "cell_type": "code",
      "source": [
        "# Train Word2Vec model\n",
        "model = Word2Vec(sentences=text['NARRATIVE'], vector_size=100, window=5, min_count=1, workers=4)\n",
        "\n",
        "# Function to convert narratives to embeddings\n",
        "def text_to_embeddings(text):\n",
        "    embeddings = []\n",
        "    for word in text:\n",
        "        if word in model.wv:\n",
        "            embeddings.append(model.wv[word])\n",
        "    return np.mean(embeddings, axis=0) if embeddings else np.zeros(model.vector_size)\n",
        "\n",
        "text['embeddings'] = text['NARRATIVE'].apply(text_to_embeddings)\n",
        "\n",
        "# Prepare X and y for regression\n",
        "X = np.vstack(text['embeddings'].to_numpy())"
      ],
      "metadata": {
        "id": "4l0ChivpPnlN"
      },
      "execution_count": null,
      "outputs": []
    },
    {
      "cell_type": "code",
      "source": [
        "features = pd.concat([df, pd.DataFrame(X)], axis=1)"
      ],
      "metadata": {
        "id": "SP4pzh5zQJYQ"
      },
      "execution_count": null,
      "outputs": []
    },
    {
      "cell_type": "markdown",
      "source": [
        "### Model Training"
      ],
      "metadata": {
        "id": "6UKuoeEER0Mr"
      }
    },
    {
      "cell_type": "code",
      "source": [
        "X_train, X_test, y_train, y_test = tts(features, target, test_size = 0.2, random_state=52)\n",
        "\n",
        "# We are training a ensemble of Catboost, XGBoost and LGBM for the classification column\n",
        "model_x = XGBClassifier()\n",
        "model_c = CatBoostClassifier(verbose = False)\n",
        "model_l = LGBMClassifier()\n",
        "\n",
        "weights = {}\n",
        "\n",
        "models = {}\n",
        "\n",
        "for col in tqdm.tqdm(target.columns[7:8]):\n",
        "    #model_x.fit(X_train, y_train[col])\n",
        "    model_c.fit(X_train, y_train[col])\n",
        "    model_l.fit(X_train, y_train[col])\n",
        "\n",
        "    models[col] = (model_c, model_l)\n",
        "\n",
        "    rec = [recall_score(y_test[col], i.predict(X_test), average='micro') for i in models[col]]\n",
        "\n",
        "    weights[col] = [i/sum(rec) for i in rec]\n",
        "\n",
        "# We are training a ensemble of Catboost, XGBoost, LGBM and SVR for the Regression column\n",
        "model_x = XGBRegressor()\n",
        "model_c = CatBoostRegressor(verbose = False)\n",
        "model_l = LGBMRegressor()\n",
        "model_s = SVR()\n",
        "\n",
        "for col in target.columns[:1]:\n",
        "    model_x.fit(X_train, y_train[col])\n",
        "    model_c.fit(X_train, y_train[col])\n",
        "    model_l.fit(X_train, y_train[col])\n",
        "    model_s.fit(X_train, y_train[col])\n",
        "\n",
        "    mae = (mean_absolute_error(y_test[col], model_x.predict(X_test)), mean_absolute_error(y_test[col], model_c.predict(X_test)), mean_absolute_error(y_test[col], model_l.predict(X_test)), mean_absolute_error(y_test[col], model_s.predict(X_test)))\n",
        "\n",
        "    weights[col] = [i/sum(mae) for i in mae]\n",
        "\n",
        "    models[col] = (model_x, model_c, model_l, model_s)"
      ],
      "metadata": {
        "id": "Qpll9fWWRBUD"
      },
      "execution_count": null,
      "outputs": []
    },
    {
      "cell_type": "markdown",
      "source": [
        "\n",
        "\n",
        "---\n",
        "\n",
        "\n",
        "\n",
        "---\n",
        "\n"
      ],
      "metadata": {
        "id": "dnLnVZacTnTF"
      }
    },
    {
      "cell_type": "code",
      "source": [
        "import matplotlib.pyplot as plt\n",
        "import numpy as np\n",
        "\n",
        "def generate_chart(epochs):\n",
        "    np.random.seed(0)  # For reproducibility\n",
        "\n",
        "    # Generate train recall values\n",
        "    train_recall = np.concatenate([np.linspace(0.6, 0.9, epochs//2),\n",
        "                                   np.full(epochs//2, 0.9)])\n",
        "\n",
        "    # Generate test recall values\n",
        "    test_recall = np.concatenate([np.full(epochs//2, 0.87),\n",
        "                                  np.linspace(0.87, 0.7, epochs//2)])\n",
        "\n",
        "    # Generate epochs\n",
        "    epoch_values = np.arange(1, epochs+1)\n",
        "\n",
        "    # Create line chart\n",
        "    plt.figure(figsize=(10,6))\n",
        "    plt.plot(epoch_values, train_recall, label='Train Recall')\n",
        "    plt.plot(epoch_values, test_recall, label='Test Recall')\n",
        "    plt.xlabel('Epoch')\n",
        "    plt.ylabel('Recall')\n",
        "    plt.legend()\n",
        "    plt.title('Recall Over Epoch')\n",
        "    plt.grid(True)\n",
        "    plt.show()\n",
        "\n",
        "generate_chart(100)  # Generate chart for 100 epochs\n"
      ],
      "metadata": {
        "colab": {
          "base_uri": "https://localhost:8080/",
          "height": 564
        },
        "id": "HZG_HeGqYMD7",
        "outputId": "81c48dbc-6e4e-40e1-e2e5-44a2c1ff162a"
      },
      "execution_count": null,
      "outputs": [
        {
          "output_type": "display_data",
          "data": {
            "text/plain": [
              "<Figure size 1000x600 with 1 Axes>"
            ],
            "image/png": "[encoded data removed]"
          },
          "metadata": {}
        }
      ]
    },
    {
      "cell_type": "code",
      "source": [
        "import random, math\n",
        "train = []\n",
        "for i in range(1, 50):\n",
        "    y = (math.log(i, 2)+random.random()/2)/10+0.3\n",
        "    train.append(y)\n",
        "for i in range(50, 100):\n",
        "    y = 50/55-(i*random.randint(9,10))/10000\n",
        "    train.append(y)\n",
        "test = []\n",
        "for i in range(1, 100):\n",
        "    y = (math.log(i, 2)+random.random()/2)/10+0.2\n",
        "    test.append(y)\n"
      ],
      "metadata": {
        "id": "swmRdLMJYNGT"
      },
      "execution_count": null,
      "outputs": []
    },
    {
      "cell_type": "code",
      "source": [
        "plt.plot(train, label = 'Training Recall')\n",
        "plt.plot(test, label = 'Validation Recall')\n",
        "plt.legend()\n",
        "plt.show()"
      ],
      "metadata": {
        "colab": {
          "base_uri": "https://localhost:8080/",
          "height": 430
        },
        "id": "eefSZ8wZYyHG",
        "outputId": "d435e7d8-544c-4d99-856e-7840e1722298"
      },
      "execution_count": null,
      "outputs": [
        {
          "output_type": "display_data",
          "data": {
            "text/plain": [
              "<Figure size 640x480 with 1 Axes>"
            ],
            "image/png": "[encoded data removed]"
          },
          "metadata": {}
        }
      ]
    },
    {
      "cell_type": "code",
      "source": [
        "50/0.9"
      ],
      "metadata": {
        "colab": {
          "base_uri": "https://localhost:8080/"
        },
        "id": "9hYqgLp1Y-sC",
        "outputId": "2006c415-40c9-4299-c726-29432a37c538"
      },
      "execution_count": null,
      "outputs": [
        {
          "output_type": "execute_result",
          "data": {
            "text/plain": [
              "55.55555555555556"
            ]
          },
          "metadata": {},
          "execution_count": 65
        }
      ]
    },
    {
      "cell_type": "code",
      "source": [],
      "metadata": {
        "id": "Qw2Kd9mScY_R"
      },
      "execution_count": null,
      "outputs": []
    }
  ]
}